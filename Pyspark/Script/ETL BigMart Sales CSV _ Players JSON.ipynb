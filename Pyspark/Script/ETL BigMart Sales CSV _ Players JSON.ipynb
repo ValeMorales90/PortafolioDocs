{
 "cells": [
  {
   "cell_type": "markdown",
   "metadata": {
    "application/vnd.databricks.v1+cell": {
     "cellMetadata": {},
     "inputWidgets": {},
     "nuid": "16f75c4f-6ce1-43f4-91bd-c840c5b449d6",
     "showTitle": false,
     "tableResultSettingsMap": {},
     "title": ""
    }
   },
   "source": [
    "Realizaremos un proceso de carga manual de datos en Databricks, con formatos .csv (8523 registros) y .json.(853 registros). Por fines demostrativos y mejorar la visualización se limitara a 15 registros.\n",
    "\n",
    "**DATA 1:**\\\n",
    "Los datos pertenecen un registro de inventario de un supermercado. Al cual de con fines demostrativos, generaremos los siguientes requerimientos:\n",
    "\n",
    "- Ajustar el nombre de una columna para claridad.\n",
    "- Seleccionar tres columnas clave del inventario.\n",
    "- Renombrar \"Código del Producto\" a \"ID del Producto\".\n",
    " - Filtrar productos por contenido graso Regular tipo \"Soft Drinks\" y peso, menor a 10 ml en \"Tier 1 o Tier 2\" con ubicación nula.\n",
    "- Crear una columna para diferenciar este inventario de otros.\n",
    "- Calcular el peso total vendido por producto.\n",
    "- Unificar los tamaños del outlet en abreviaturas (\"S\", \"M\", \"L\").\n",
    "- Cambiar el año de establecimiento de número a texto.\n",
    "- Ordenar productos por peso y visibilidad, de mayor a menor.\n",
    "\n",
    "**DATA 2:**\\\n",
    "Los datos pertenecen un registro de drivers en formato .JSON. Al cual de con fines demostraticvos, generaremos los siguientes requerimientos:\n",
    "- Crear una columna con el nombre completo de cada jugador.\n",
    "- Calcular su edad basandose en su fecha de nacimiento."
   ]
  },
  {
   "cell_type": "markdown",
   "metadata": {
    "application/vnd.databricks.v1+cell": {
     "cellMetadata": {},
     "inputWidgets": {},
     "nuid": "90b86836-cff4-4818-8506-2900b78a7cb3",
     "showTitle": false,
     "tableResultSettingsMap": {},
     "title": ""
    }
   },
   "source": [
    "Data 1 Import \n",
    "Ingresaremos la data de manera manera manual en DBFS.\n",
    "\n",
    "'/FileStore/tables/BigMart_Sales.csv'\n",
    "'/FileStore/tables/drivers.json'"
   ]
  },
  {
   "cell_type": "code",
   "execution_count": 0,
   "metadata": {
    "application/vnd.databricks.v1+cell": {
     "cellMetadata": {
      "byteLimit": 2048000,
      "rowLimit": 10000
     },
     "inputWidgets": {},
     "nuid": "9153a654-4667-4d01-8e2f-61b1b2bb4c41",
     "showTitle": false,
     "tableResultSettingsMap": {},
     "title": ""
    }
   },
   "outputs": [],
   "source": [
    "df = spark.read.format('csv').option('inferSchema', True).option('header', True).load('/FileStore/tables/BigMart_Sales.csv')"
   ]
  },
  {
   "cell_type": "code",
   "execution_count": 0,
   "metadata": {
    "application/vnd.databricks.v1+cell": {
     "cellMetadata": {
      "byteLimit": 2048000,
      "rowLimit": 10000
     },
     "inputWidgets": {},
     "nuid": "e018f1f9-b0d2-4970-8883-420225a4aa4b",
     "showTitle": false,
     "tableResultSettingsMap": {},
     "title": ""
    }
   },
   "outputs": [
    {
     "output_type": "display_data",
     "data": {
      "text/html": [
       "<style scoped>\n",
       "  .table-result-container {\n",
       "    max-height: 300px;\n",
       "    overflow: auto;\n",
       "  }\n",
       "  table, th, td {\n",
       "    border: 1px solid black;\n",
       "    border-collapse: collapse;\n",
       "  }\n",
       "  th, td {\n",
       "    padding: 5px;\n",
       "  }\n",
       "  th {\n",
       "    text-align: left;\n",
       "  }\n",
       "</style><div class='table-result-container'><table class='table-result'><thead style='background-color: white'><tr><th>Item_Identifier</th><th>Item_Weight</th><th>Item_Fat_Content</th><th>Item_Visibility</th><th>Item_Type</th><th>Item_MRP</th><th>Outlet_Identifier</th><th>Outlet_Establishment_Year</th><th>Outlet_Size</th><th>Outlet_Location_Type</th><th>Outlet_Type</th><th>Item_Outlet_Sales</th></tr></thead><tbody><tr><td>FDA15</td><td>9.3</td><td>Low Fat</td><td>0.016047301</td><td>Dairy</td><td>249.8092</td><td>OUT049</td><td>1999</td><td>Medium</td><td>Tier 1</td><td>Supermarket Type1</td><td>3735.138</td></tr><tr><td>DRC01</td><td>5.92</td><td>Regular</td><td>0.019278216</td><td>Soft Drinks</td><td>48.2692</td><td>OUT018</td><td>2009</td><td>Medium</td><td>Tier 3</td><td>Supermarket Type2</td><td>443.4228</td></tr><tr><td>FDN15</td><td>17.5</td><td>Low Fat</td><td>0.016760075</td><td>Meat</td><td>141.618</td><td>OUT049</td><td>1999</td><td>Medium</td><td>Tier 1</td><td>Supermarket Type1</td><td>2097.27</td></tr><tr><td>FDX07</td><td>19.2</td><td>Regular</td><td>0.0</td><td>Fruits and Vegetables</td><td>182.095</td><td>OUT010</td><td>1998</td><td>null</td><td>Tier 3</td><td>Grocery Store</td><td>732.38</td></tr><tr><td>NCD19</td><td>8.93</td><td>Low Fat</td><td>0.0</td><td>Household</td><td>53.8614</td><td>OUT013</td><td>1987</td><td>High</td><td>Tier 3</td><td>Supermarket Type1</td><td>994.7052</td></tr><tr><td>FDP36</td><td>10.395</td><td>Regular</td><td>0.0</td><td>Baking Goods</td><td>51.4008</td><td>OUT018</td><td>2009</td><td>Medium</td><td>Tier 3</td><td>Supermarket Type2</td><td>556.6088</td></tr><tr><td>FDO10</td><td>13.65</td><td>Regular</td><td>0.012741089</td><td>Snack Foods</td><td>57.6588</td><td>OUT013</td><td>1987</td><td>High</td><td>Tier 3</td><td>Supermarket Type1</td><td>343.5528</td></tr><tr><td>FDP10</td><td>null</td><td>Low Fat</td><td>0.127469857</td><td>Snack Foods</td><td>107.7622</td><td>OUT027</td><td>1985</td><td>Medium</td><td>Tier 3</td><td>Supermarket Type3</td><td>4022.7636</td></tr><tr><td>FDH17</td><td>16.2</td><td>Regular</td><td>0.016687114</td><td>Frozen Foods</td><td>96.9726</td><td>OUT045</td><td>2002</td><td>null</td><td>Tier 2</td><td>Supermarket Type1</td><td>1076.5986</td></tr><tr><td>FDU28</td><td>19.2</td><td>Regular</td><td>0.09444959</td><td>Frozen Foods</td><td>187.8214</td><td>OUT017</td><td>2007</td><td>null</td><td>Tier 2</td><td>Supermarket Type1</td><td>4710.535</td></tr><tr><td>FDY07</td><td>11.8</td><td>Low Fat</td><td>0.0</td><td>Fruits and Vegetables</td><td>45.5402</td><td>OUT049</td><td>1999</td><td>Medium</td><td>Tier 1</td><td>Supermarket Type1</td><td>1516.0266</td></tr><tr><td>FDA03</td><td>18.5</td><td>Regular</td><td>0.045463773</td><td>Dairy</td><td>144.1102</td><td>OUT046</td><td>1997</td><td>Small</td><td>Tier 1</td><td>Supermarket Type1</td><td>2187.153</td></tr><tr><td>FDX32</td><td>15.1</td><td>Regular</td><td>0.1000135</td><td>Fruits and Vegetables</td><td>145.4786</td><td>OUT049</td><td>1999</td><td>Medium</td><td>Tier 1</td><td>Supermarket Type1</td><td>1589.2646</td></tr><tr><td>FDS46</td><td>17.6</td><td>Regular</td><td>0.047257328</td><td>Snack Foods</td><td>119.6782</td><td>OUT046</td><td>1997</td><td>Small</td><td>Tier 1</td><td>Supermarket Type1</td><td>2145.2076</td></tr><tr><td>FDF32</td><td>16.35</td><td>Low Fat</td><td>0.0680243</td><td>Fruits and Vegetables</td><td>196.4426</td><td>OUT013</td><td>1987</td><td>High</td><td>Tier 3</td><td>Supermarket Type1</td><td>1977.426</td></tr></tbody></table></div>"
      ]
     },
     "metadata": {
      "application/vnd.databricks.v1+output": {
       "addedWidgets": {},
       "aggData": [],
       "aggError": "",
       "aggOverflow": false,
       "aggSchema": [],
       "aggSeriesLimitReached": false,
       "aggType": "",
       "arguments": {},
       "columnCustomDisplayInfos": {},
       "data": [
        [
         "FDA15",
         9.3,
         "Low Fat",
         0.016047301,
         "Dairy",
         249.8092,
         "OUT049",
         1999,
         "Medium",
         "Tier 1",
         "Supermarket Type1",
         3735.138
        ],
        [
         "DRC01",
         5.92,
         "Regular",
         0.019278216,
         "Soft Drinks",
         48.2692,
         "OUT018",
         2009,
         "Medium",
         "Tier 3",
         "Supermarket Type2",
         443.4228
        ],
        [
         "FDN15",
         17.5,
         "Low Fat",
         0.016760075,
         "Meat",
         141.618,
         "OUT049",
         1999,
         "Medium",
         "Tier 1",
         "Supermarket Type1",
         2097.27
        ],
        [
         "FDX07",
         19.2,
         "Regular",
         0.0,
         "Fruits and Vegetables",
         182.095,
         "OUT010",
         1998,
         null,
         "Tier 3",
         "Grocery Store",
         732.38
        ],
        [
         "NCD19",
         8.93,
         "Low Fat",
         0.0,
         "Household",
         53.8614,
         "OUT013",
         1987,
         "High",
         "Tier 3",
         "Supermarket Type1",
         994.7052
        ],
        [
         "FDP36",
         10.395,
         "Regular",
         0.0,
         "Baking Goods",
         51.4008,
         "OUT018",
         2009,
         "Medium",
         "Tier 3",
         "Supermarket Type2",
         556.6088
        ],
        [
         "FDO10",
         13.65,
         "Regular",
         0.012741089,
         "Snack Foods",
         57.6588,
         "OUT013",
         1987,
         "High",
         "Tier 3",
         "Supermarket Type1",
         343.5528
        ],
        [
         "FDP10",
         null,
         "Low Fat",
         0.127469857,
         "Snack Foods",
         107.7622,
         "OUT027",
         1985,
         "Medium",
         "Tier 3",
         "Supermarket Type3",
         4022.7636
        ],
        [
         "FDH17",
         16.2,
         "Regular",
         0.016687114,
         "Frozen Foods",
         96.9726,
         "OUT045",
         2002,
         null,
         "Tier 2",
         "Supermarket Type1",
         1076.5986
        ],
        [
         "FDU28",
         19.2,
         "Regular",
         0.09444959,
         "Frozen Foods",
         187.8214,
         "OUT017",
         2007,
         null,
         "Tier 2",
         "Supermarket Type1",
         4710.535
        ],
        [
         "FDY07",
         11.8,
         "Low Fat",
         0.0,
         "Fruits and Vegetables",
         45.5402,
         "OUT049",
         1999,
         "Medium",
         "Tier 1",
         "Supermarket Type1",
         1516.0266
        ],
        [
         "FDA03",
         18.5,
         "Regular",
         0.045463773,
         "Dairy",
         144.1102,
         "OUT046",
         1997,
         "Small",
         "Tier 1",
         "Supermarket Type1",
         2187.153
        ],
        [
         "FDX32",
         15.1,
         "Regular",
         0.1000135,
         "Fruits and Vegetables",
         145.4786,
         "OUT049",
         1999,
         "Medium",
         "Tier 1",
         "Supermarket Type1",
         1589.2646
        ],
        [
         "FDS46",
         17.6,
         "Regular",
         0.047257328,
         "Snack Foods",
         119.6782,
         "OUT046",
         1997,
         "Small",
         "Tier 1",
         "Supermarket Type1",
         2145.2076
        ],
        [
         "FDF32",
         16.35,
         "Low Fat",
         0.0680243,
         "Fruits and Vegetables",
         196.4426,
         "OUT013",
         1987,
         "High",
         "Tier 3",
         "Supermarket Type1",
         1977.426
        ]
       ],
       "datasetInfos": [],
       "dbfsResultPath": null,
       "isJsonSchema": true,
       "metadata": {},
       "overflow": false,
       "plotOptions": {
        "customPlotOptions": {},
        "displayType": "table",
        "pivotAggregation": null,
        "pivotColumns": null,
        "xColumns": null,
        "yColumns": null
       },
       "removedWidgets": [],
       "schema": [
        {
         "metadata": "{}",
         "name": "Item_Identifier",
         "type": "\"string\""
        },
        {
         "metadata": "{}",
         "name": "Item_Weight",
         "type": "\"double\""
        },
        {
         "metadata": "{}",
         "name": "Item_Fat_Content",
         "type": "\"string\""
        },
        {
         "metadata": "{}",
         "name": "Item_Visibility",
         "type": "\"double\""
        },
        {
         "metadata": "{}",
         "name": "Item_Type",
         "type": "\"string\""
        },
        {
         "metadata": "{}",
         "name": "Item_MRP",
         "type": "\"double\""
        },
        {
         "metadata": "{}",
         "name": "Outlet_Identifier",
         "type": "\"string\""
        },
        {
         "metadata": "{}",
         "name": "Outlet_Establishment_Year",
         "type": "\"integer\""
        },
        {
         "metadata": "{}",
         "name": "Outlet_Size",
         "type": "\"string\""
        },
        {
         "metadata": "{}",
         "name": "Outlet_Location_Type",
         "type": "\"string\""
        },
        {
         "metadata": "{}",
         "name": "Outlet_Type",
         "type": "\"string\""
        },
        {
         "metadata": "{}",
         "name": "Item_Outlet_Sales",
         "type": "\"double\""
        }
       ],
       "type": "table"
      }
     },
     "output_type": "display_data"
    }
   ],
   "source": [
    "df.limit(15).display()"
   ]
  },
  {
   "cell_type": "markdown",
   "metadata": {
    "application/vnd.databricks.v1+cell": {
     "cellMetadata": {},
     "inputWidgets": {},
     "nuid": "736e8a4f-1a8a-43c6-a7ae-ea19d56b7ec1",
     "showTitle": false,
     "tableResultSettingsMap": {},
     "title": ""
    }
   },
   "source": [
    "### Transformation"
   ]
  },
  {
   "cell_type": "markdown",
   "metadata": {
    "application/vnd.databricks.v1+cell": {
     "cellMetadata": {},
     "inputWidgets": {},
     "nuid": "881ae525-a8f2-41f4-aa50-df185ecbaa23",
     "showTitle": false,
     "tableResultSettingsMap": {},
     "title": ""
    }
   },
   "source": [
    "Read Schema"
   ]
  },
  {
   "cell_type": "code",
   "execution_count": 0,
   "metadata": {
    "application/vnd.databricks.v1+cell": {
     "cellMetadata": {
      "byteLimit": 2048000,
      "rowLimit": 10000
     },
     "inputWidgets": {},
     "nuid": "5a729b7e-cf49-4101-9ef8-36f6cf349595",
     "showTitle": false,
     "tableResultSettingsMap": {},
     "title": ""
    }
   },
   "outputs": [
    {
     "output_type": "stream",
     "name": "stdout",
     "output_type": "stream",
     "text": [
      "root\n |-- Item_Identifier: string (nullable = true)\n |-- Item_Weight: double (nullable = true)\n |-- Item_Fat_Content: string (nullable = true)\n |-- Item_Visibility: double (nullable = true)\n |-- Item_Type: string (nullable = true)\n |-- Item_MRP: double (nullable = true)\n |-- Outlet_Identifier: string (nullable = true)\n |-- Outlet_Establishment_Year: integer (nullable = true)\n |-- Outlet_Size: string (nullable = true)\n |-- Outlet_Location_Type: string (nullable = true)\n |-- Outlet_Type: string (nullable = true)\n |-- Item_Outlet_Sales: double (nullable = true)\n\n"
     ]
    }
   ],
   "source": [
    "df.printSchema()"
   ]
  },
  {
   "cell_type": "markdown",
   "metadata": {
    "application/vnd.databricks.v1+cell": {
     "cellMetadata": {},
     "inputWidgets": {},
     "nuid": "88030b83-5a25-4b34-b25e-86ed80295fbb",
     "showTitle": false,
     "tableResultSettingsMap": {},
     "title": ""
    }
   },
   "source": [
    "DDL Schema\\\n",
    "Evaluamos y modificamos la columna Item_Weight a 'String'"
   ]
  },
  {
   "cell_type": "code",
   "execution_count": 0,
   "metadata": {
    "application/vnd.databricks.v1+cell": {
     "cellMetadata": {
      "byteLimit": 2048000,
      "rowLimit": 10000
     },
     "inputWidgets": {},
     "nuid": "3475d7a6-765c-4a86-9805-133bf7396e51",
     "showTitle": false,
     "tableResultSettingsMap": {},
     "title": ""
    }
   },
   "outputs": [],
   "source": [
    "new_ddl_schema = '''\n",
    "                Item_Identifier: string,\n",
    "                Item_Weight: string,\n",
    "                Item_Fat_Content: string,\n",
    "                Item_Visibility: double,\n",
    "                Item_Type: string,\n",
    "                Item_MRP: double,\n",
    "                Outlet_Identifier: string,\n",
    "                Outlet_Establishment_Year: integer,\n",
    "                Outlet_Size: string,\n",
    "                Outlet_Location_Type: string,\n",
    "                Outlet_Type: string,\n",
    "                Item_Outlet_Sales: double,\n",
    " '''"
   ]
  },
  {
   "cell_type": "code",
   "execution_count": 0,
   "metadata": {
    "application/vnd.databricks.v1+cell": {
     "cellMetadata": {
      "byteLimit": 2048000,
      "rowLimit": 10000
     },
     "inputWidgets": {},
     "nuid": "cfaf11bc-b709-41ba-94e6-8ce9334860d4",
     "showTitle": false,
     "tableResultSettingsMap": {},
     "title": ""
    }
   },
   "outputs": [],
   "source": [
    "df_new_schema = spark.read.format('csv').option('new_ddl_schema', True).option('header', True).load('/FileStore/tables/BigMart_Sales.csv')"
   ]
  },
  {
   "cell_type": "code",
   "execution_count": 0,
   "metadata": {
    "application/vnd.databricks.v1+cell": {
     "cellMetadata": {
      "byteLimit": 2048000,
      "rowLimit": 10000
     },
     "inputWidgets": {},
     "nuid": "c02f3433-260f-40ff-97a3-df8bee62f4e9",
     "showTitle": false,
     "tableResultSettingsMap": {},
     "title": ""
    }
   },
   "outputs": [
    {
     "output_type": "display_data",
     "data": {
      "text/html": [
       "<style scoped>\n",
       "  .table-result-container {\n",
       "    max-height: 300px;\n",
       "    overflow: auto;\n",
       "  }\n",
       "  table, th, td {\n",
       "    border: 1px solid black;\n",
       "    border-collapse: collapse;\n",
       "  }\n",
       "  th, td {\n",
       "    padding: 5px;\n",
       "  }\n",
       "  th {\n",
       "    text-align: left;\n",
       "  }\n",
       "</style><div class='table-result-container'><table class='table-result'><thead style='background-color: white'><tr><th>Item_Identifier</th><th>Item_Weight</th><th>Item_Fat_Content</th><th>Item_Visibility</th><th>Item_Type</th><th>Item_MRP</th><th>Outlet_Identifier</th><th>Outlet_Establishment_Year</th><th>Outlet_Size</th><th>Outlet_Location_Type</th><th>Outlet_Type</th><th>Item_Outlet_Sales</th></tr></thead><tbody><tr><td>FDA15</td><td>9.3</td><td>Low Fat</td><td>0.016047301</td><td>Dairy</td><td>249.8092</td><td>OUT049</td><td>1999</td><td>Medium</td><td>Tier 1</td><td>Supermarket Type1</td><td>3735.138</td></tr><tr><td>DRC01</td><td>5.92</td><td>Regular</td><td>0.019278216</td><td>Soft Drinks</td><td>48.2692</td><td>OUT018</td><td>2009</td><td>Medium</td><td>Tier 3</td><td>Supermarket Type2</td><td>443.4228</td></tr><tr><td>FDN15</td><td>17.5</td><td>Low Fat</td><td>0.016760075</td><td>Meat</td><td>141.618</td><td>OUT049</td><td>1999</td><td>Medium</td><td>Tier 1</td><td>Supermarket Type1</td><td>2097.27</td></tr><tr><td>FDX07</td><td>19.2</td><td>Regular</td><td>0</td><td>Fruits and Vegetables</td><td>182.095</td><td>OUT010</td><td>1998</td><td>null</td><td>Tier 3</td><td>Grocery Store</td><td>732.38</td></tr><tr><td>NCD19</td><td>8.93</td><td>Low Fat</td><td>0</td><td>Household</td><td>53.8614</td><td>OUT013</td><td>1987</td><td>High</td><td>Tier 3</td><td>Supermarket Type1</td><td>994.7052</td></tr><tr><td>FDP36</td><td>10.395</td><td>Regular</td><td>0</td><td>Baking Goods</td><td>51.4008</td><td>OUT018</td><td>2009</td><td>Medium</td><td>Tier 3</td><td>Supermarket Type2</td><td>556.6088</td></tr><tr><td>FDO10</td><td>13.65</td><td>Regular</td><td>0.012741089</td><td>Snack Foods</td><td>57.6588</td><td>OUT013</td><td>1987</td><td>High</td><td>Tier 3</td><td>Supermarket Type1</td><td>343.5528</td></tr><tr><td>FDP10</td><td>null</td><td>Low Fat</td><td>0.127469857</td><td>Snack Foods</td><td>107.7622</td><td>OUT027</td><td>1985</td><td>Medium</td><td>Tier 3</td><td>Supermarket Type3</td><td>4022.7636</td></tr><tr><td>FDH17</td><td>16.2</td><td>Regular</td><td>0.016687114</td><td>Frozen Foods</td><td>96.9726</td><td>OUT045</td><td>2002</td><td>null</td><td>Tier 2</td><td>Supermarket Type1</td><td>1076.5986</td></tr><tr><td>FDU28</td><td>19.2</td><td>Regular</td><td>0.09444959</td><td>Frozen Foods</td><td>187.8214</td><td>OUT017</td><td>2007</td><td>null</td><td>Tier 2</td><td>Supermarket Type1</td><td>4710.535</td></tr><tr><td>FDY07</td><td>11.8</td><td>Low Fat</td><td>0</td><td>Fruits and Vegetables</td><td>45.5402</td><td>OUT049</td><td>1999</td><td>Medium</td><td>Tier 1</td><td>Supermarket Type1</td><td>1516.0266</td></tr><tr><td>FDA03</td><td>18.5</td><td>Regular</td><td>0.045463773</td><td>Dairy</td><td>144.1102</td><td>OUT046</td><td>1997</td><td>Small</td><td>Tier 1</td><td>Supermarket Type1</td><td>2187.153</td></tr><tr><td>FDX32</td><td>15.1</td><td>Regular</td><td>0.1000135</td><td>Fruits and Vegetables</td><td>145.4786</td><td>OUT049</td><td>1999</td><td>Medium</td><td>Tier 1</td><td>Supermarket Type1</td><td>1589.2646</td></tr><tr><td>FDS46</td><td>17.6</td><td>Regular</td><td>0.047257328</td><td>Snack Foods</td><td>119.6782</td><td>OUT046</td><td>1997</td><td>Small</td><td>Tier 1</td><td>Supermarket Type1</td><td>2145.2076</td></tr><tr><td>FDF32</td><td>16.35</td><td>Low Fat</td><td>0.0680243</td><td>Fruits and Vegetables</td><td>196.4426</td><td>OUT013</td><td>1987</td><td>High</td><td>Tier 3</td><td>Supermarket Type1</td><td>1977.426</td></tr></tbody></table></div>"
      ]
     },
     "metadata": {
      "application/vnd.databricks.v1+output": {
       "addedWidgets": {},
       "aggData": [],
       "aggError": "",
       "aggOverflow": false,
       "aggSchema": [],
       "aggSeriesLimitReached": false,
       "aggType": "",
       "arguments": {},
       "columnCustomDisplayInfos": {},
       "data": [
        [
         "FDA15",
         "9.3",
         "Low Fat",
         "0.016047301",
         "Dairy",
         "249.8092",
         "OUT049",
         "1999",
         "Medium",
         "Tier 1",
         "Supermarket Type1",
         "3735.138"
        ],
        [
         "DRC01",
         "5.92",
         "Regular",
         "0.019278216",
         "Soft Drinks",
         "48.2692",
         "OUT018",
         "2009",
         "Medium",
         "Tier 3",
         "Supermarket Type2",
         "443.4228"
        ],
        [
         "FDN15",
         "17.5",
         "Low Fat",
         "0.016760075",
         "Meat",
         "141.618",
         "OUT049",
         "1999",
         "Medium",
         "Tier 1",
         "Supermarket Type1",
         "2097.27"
        ],
        [
         "FDX07",
         "19.2",
         "Regular",
         "0",
         "Fruits and Vegetables",
         "182.095",
         "OUT010",
         "1998",
         null,
         "Tier 3",
         "Grocery Store",
         "732.38"
        ],
        [
         "NCD19",
         "8.93",
         "Low Fat",
         "0",
         "Household",
         "53.8614",
         "OUT013",
         "1987",
         "High",
         "Tier 3",
         "Supermarket Type1",
         "994.7052"
        ],
        [
         "FDP36",
         "10.395",
         "Regular",
         "0",
         "Baking Goods",
         "51.4008",
         "OUT018",
         "2009",
         "Medium",
         "Tier 3",
         "Supermarket Type2",
         "556.6088"
        ],
        [
         "FDO10",
         "13.65",
         "Regular",
         "0.012741089",
         "Snack Foods",
         "57.6588",
         "OUT013",
         "1987",
         "High",
         "Tier 3",
         "Supermarket Type1",
         "343.5528"
        ],
        [
         "FDP10",
         null,
         "Low Fat",
         "0.127469857",
         "Snack Foods",
         "107.7622",
         "OUT027",
         "1985",
         "Medium",
         "Tier 3",
         "Supermarket Type3",
         "4022.7636"
        ],
        [
         "FDH17",
         "16.2",
         "Regular",
         "0.016687114",
         "Frozen Foods",
         "96.9726",
         "OUT045",
         "2002",
         null,
         "Tier 2",
         "Supermarket Type1",
         "1076.5986"
        ],
        [
         "FDU28",
         "19.2",
         "Regular",
         "0.09444959",
         "Frozen Foods",
         "187.8214",
         "OUT017",
         "2007",
         null,
         "Tier 2",
         "Supermarket Type1",
         "4710.535"
        ],
        [
         "FDY07",
         "11.8",
         "Low Fat",
         "0",
         "Fruits and Vegetables",
         "45.5402",
         "OUT049",
         "1999",
         "Medium",
         "Tier 1",
         "Supermarket Type1",
         "1516.0266"
        ],
        [
         "FDA03",
         "18.5",
         "Regular",
         "0.045463773",
         "Dairy",
         "144.1102",
         "OUT046",
         "1997",
         "Small",
         "Tier 1",
         "Supermarket Type1",
         "2187.153"
        ],
        [
         "FDX32",
         "15.1",
         "Regular",
         "0.1000135",
         "Fruits and Vegetables",
         "145.4786",
         "OUT049",
         "1999",
         "Medium",
         "Tier 1",
         "Supermarket Type1",
         "1589.2646"
        ],
        [
         "FDS46",
         "17.6",
         "Regular",
         "0.047257328",
         "Snack Foods",
         "119.6782",
         "OUT046",
         "1997",
         "Small",
         "Tier 1",
         "Supermarket Type1",
         "2145.2076"
        ],
        [
         "FDF32",
         "16.35",
         "Low Fat",
         "0.0680243",
         "Fruits and Vegetables",
         "196.4426",
         "OUT013",
         "1987",
         "High",
         "Tier 3",
         "Supermarket Type1",
         "1977.426"
        ]
       ],
       "datasetInfos": [],
       "dbfsResultPath": null,
       "isJsonSchema": true,
       "metadata": {},
       "overflow": false,
       "plotOptions": {
        "customPlotOptions": {},
        "displayType": "table",
        "pivotAggregation": null,
        "pivotColumns": null,
        "xColumns": null,
        "yColumns": null
       },
       "removedWidgets": [],
       "schema": [
        {
         "metadata": "{}",
         "name": "Item_Identifier",
         "type": "\"string\""
        },
        {
         "metadata": "{}",
         "name": "Item_Weight",
         "type": "\"string\""
        },
        {
         "metadata": "{}",
         "name": "Item_Fat_Content",
         "type": "\"string\""
        },
        {
         "metadata": "{}",
         "name": "Item_Visibility",
         "type": "\"string\""
        },
        {
         "metadata": "{}",
         "name": "Item_Type",
         "type": "\"string\""
        },
        {
         "metadata": "{}",
         "name": "Item_MRP",
         "type": "\"string\""
        },
        {
         "metadata": "{}",
         "name": "Outlet_Identifier",
         "type": "\"string\""
        },
        {
         "metadata": "{}",
         "name": "Outlet_Establishment_Year",
         "type": "\"string\""
        },
        {
         "metadata": "{}",
         "name": "Outlet_Size",
         "type": "\"string\""
        },
        {
         "metadata": "{}",
         "name": "Outlet_Location_Type",
         "type": "\"string\""
        },
        {
         "metadata": "{}",
         "name": "Outlet_Type",
         "type": "\"string\""
        },
        {
         "metadata": "{}",
         "name": "Item_Outlet_Sales",
         "type": "\"string\""
        }
       ],
       "type": "table"
      }
     },
     "output_type": "display_data"
    }
   ],
   "source": [
    "df_new_schema.limit(15).display()"
   ]
  },
  {
   "cell_type": "markdown",
   "metadata": {
    "application/vnd.databricks.v1+cell": {
     "cellMetadata": {},
     "inputWidgets": {},
     "nuid": "b7f00bb3-8742-4163-a4e7-072041409e5c",
     "showTitle": false,
     "tableResultSettingsMap": {},
     "title": ""
    }
   },
   "source": [
    "Select\\\n",
    "Seleccionaremos sólo las columnas:\n",
    "- Item_Identifier.\n",
    "- Item_Type.\n",
    "- Item_Weight."
   ]
  },
  {
   "cell_type": "code",
   "execution_count": 0,
   "metadata": {
    "application/vnd.databricks.v1+cell": {
     "cellMetadata": {
      "byteLimit": 2048000,
      "rowLimit": 10000
     },
     "inputWidgets": {},
     "nuid": "75be32c2-1fcb-4bc1-9c78-7cf14be80270",
     "showTitle": false,
     "tableResultSettingsMap": {},
     "title": ""
    }
   },
   "outputs": [],
   "source": [
    "from pyspark.sql.types import * \n",
    "from pyspark.sql.functions import *  "
   ]
  },
  {
   "cell_type": "code",
   "execution_count": 0,
   "metadata": {
    "application/vnd.databricks.v1+cell": {
     "cellMetadata": {
      "byteLimit": 2048000,
      "rowLimit": 10000
     },
     "inputWidgets": {},
     "nuid": "3b64b27c-ad7c-4be1-8431-ab9f7823775d",
     "showTitle": false,
     "tableResultSettingsMap": {},
     "title": ""
    }
   },
   "outputs": [
    {
     "output_type": "display_data",
     "data": {
      "text/html": [
       "<style scoped>\n",
       "  .table-result-container {\n",
       "    max-height: 300px;\n",
       "    overflow: auto;\n",
       "  }\n",
       "  table, th, td {\n",
       "    border: 1px solid black;\n",
       "    border-collapse: collapse;\n",
       "  }\n",
       "  th, td {\n",
       "    padding: 5px;\n",
       "  }\n",
       "  th {\n",
       "    text-align: left;\n",
       "  }\n",
       "</style><div class='table-result-container'><table class='table-result'><thead style='background-color: white'><tr><th>Item_Identifier</th><th>Item_Weight</th><th>Item_Type</th></tr></thead><tbody><tr><td>FDA15</td><td>9.3</td><td>Dairy</td></tr><tr><td>DRC01</td><td>5.92</td><td>Soft Drinks</td></tr><tr><td>FDN15</td><td>17.5</td><td>Meat</td></tr><tr><td>FDX07</td><td>19.2</td><td>Fruits and Vegetables</td></tr><tr><td>NCD19</td><td>8.93</td><td>Household</td></tr><tr><td>FDP36</td><td>10.395</td><td>Baking Goods</td></tr><tr><td>FDO10</td><td>13.65</td><td>Snack Foods</td></tr><tr><td>FDP10</td><td>null</td><td>Snack Foods</td></tr><tr><td>FDH17</td><td>16.2</td><td>Frozen Foods</td></tr><tr><td>FDU28</td><td>19.2</td><td>Frozen Foods</td></tr><tr><td>FDY07</td><td>11.8</td><td>Fruits and Vegetables</td></tr><tr><td>FDA03</td><td>18.5</td><td>Dairy</td></tr><tr><td>FDX32</td><td>15.1</td><td>Fruits and Vegetables</td></tr><tr><td>FDS46</td><td>17.6</td><td>Snack Foods</td></tr><tr><td>FDF32</td><td>16.35</td><td>Fruits and Vegetables</td></tr></tbody></table></div>"
      ]
     },
     "metadata": {
      "application/vnd.databricks.v1+output": {
       "addedWidgets": {},
       "aggData": [],
       "aggError": "",
       "aggOverflow": false,
       "aggSchema": [],
       "aggSeriesLimitReached": false,
       "aggType": "",
       "arguments": {},
       "columnCustomDisplayInfos": {},
       "data": [
        [
         "FDA15",
         9.3,
         "Dairy"
        ],
        [
         "DRC01",
         5.92,
         "Soft Drinks"
        ],
        [
         "FDN15",
         17.5,
         "Meat"
        ],
        [
         "FDX07",
         19.2,
         "Fruits and Vegetables"
        ],
        [
         "NCD19",
         8.93,
         "Household"
        ],
        [
         "FDP36",
         10.395,
         "Baking Goods"
        ],
        [
         "FDO10",
         13.65,
         "Snack Foods"
        ],
        [
         "FDP10",
         null,
         "Snack Foods"
        ],
        [
         "FDH17",
         16.2,
         "Frozen Foods"
        ],
        [
         "FDU28",
         19.2,
         "Frozen Foods"
        ],
        [
         "FDY07",
         11.8,
         "Fruits and Vegetables"
        ],
        [
         "FDA03",
         18.5,
         "Dairy"
        ],
        [
         "FDX32",
         15.1,
         "Fruits and Vegetables"
        ],
        [
         "FDS46",
         17.6,
         "Snack Foods"
        ],
        [
         "FDF32",
         16.35,
         "Fruits and Vegetables"
        ]
       ],
       "datasetInfos": [],
       "dbfsResultPath": null,
       "isJsonSchema": true,
       "metadata": {},
       "overflow": false,
       "plotOptions": {
        "customPlotOptions": {},
        "displayType": "table",
        "pivotAggregation": null,
        "pivotColumns": null,
        "xColumns": null,
        "yColumns": null
       },
       "removedWidgets": [],
       "schema": [
        {
         "metadata": "{}",
         "name": "Item_Identifier",
         "type": "\"string\""
        },
        {
         "metadata": "{}",
         "name": "Item_Weight",
         "type": "\"double\""
        },
        {
         "metadata": "{}",
         "name": "Item_Type",
         "type": "\"string\""
        }
       ],
       "type": "table"
      }
     },
     "output_type": "display_data"
    }
   ],
   "source": [
    "df.select(col('Item_Identifier'), col('Item_Weight'), col('Item_Type')).limit(15).display()\n",
    "                   "
   ]
  },
  {
   "cell_type": "markdown",
   "metadata": {
    "application/vnd.databricks.v1+cell": {
     "cellMetadata": {},
     "inputWidgets": {},
     "nuid": "e83f6f42-142f-4082-8a02-d0778bd0a844",
     "showTitle": false,
     "tableResultSettingsMap": {},
     "title": ""
    }
   },
   "source": [
    "Entregar un alias a una columna"
   ]
  },
  {
   "cell_type": "code",
   "execution_count": 0,
   "metadata": {
    "application/vnd.databricks.v1+cell": {
     "cellMetadata": {
      "byteLimit": 2048000,
      "rowLimit": 10000
     },
     "inputWidgets": {},
     "nuid": "14307a9d-1546-482b-9079-a54082f458a0",
     "showTitle": false,
     "tableResultSettingsMap": {},
     "title": ""
    }
   },
   "outputs": [
    {
     "output_type": "display_data",
     "data": {
      "text/html": [
       "<style scoped>\n",
       "  .table-result-container {\n",
       "    max-height: 300px;\n",
       "    overflow: auto;\n",
       "  }\n",
       "  table, th, td {\n",
       "    border: 1px solid black;\n",
       "    border-collapse: collapse;\n",
       "  }\n",
       "  th, td {\n",
       "    padding: 5px;\n",
       "  }\n",
       "  th {\n",
       "    text-align: left;\n",
       "  }\n",
       "</style><div class='table-result-container'><table class='table-result'><thead style='background-color: white'><tr><th>Item_ID</th></tr></thead><tbody><tr><td>FDA15</td></tr><tr><td>DRC01</td></tr><tr><td>FDN15</td></tr><tr><td>FDX07</td></tr><tr><td>NCD19</td></tr><tr><td>FDP36</td></tr><tr><td>FDO10</td></tr><tr><td>FDP10</td></tr><tr><td>FDH17</td></tr><tr><td>FDU28</td></tr><tr><td>FDY07</td></tr><tr><td>FDA03</td></tr><tr><td>FDX32</td></tr><tr><td>FDS46</td></tr><tr><td>FDF32</td></tr></tbody></table></div>"
      ]
     },
     "metadata": {
      "application/vnd.databricks.v1+output": {
       "addedWidgets": {},
       "aggData": [],
       "aggError": "",
       "aggOverflow": false,
       "aggSchema": [],
       "aggSeriesLimitReached": false,
       "aggType": "",
       "arguments": {},
       "columnCustomDisplayInfos": {},
       "data": [
        [
         "FDA15"
        ],
        [
         "DRC01"
        ],
        [
         "FDN15"
        ],
        [
         "FDX07"
        ],
        [
         "NCD19"
        ],
        [
         "FDP36"
        ],
        [
         "FDO10"
        ],
        [
         "FDP10"
        ],
        [
         "FDH17"
        ],
        [
         "FDU28"
        ],
        [
         "FDY07"
        ],
        [
         "FDA03"
        ],
        [
         "FDX32"
        ],
        [
         "FDS46"
        ],
        [
         "FDF32"
        ]
       ],
       "datasetInfos": [],
       "dbfsResultPath": null,
       "isJsonSchema": true,
       "metadata": {},
       "overflow": false,
       "plotOptions": {
        "customPlotOptions": {},
        "displayType": "table",
        "pivotAggregation": null,
        "pivotColumns": null,
        "xColumns": null,
        "yColumns": null
       },
       "removedWidgets": [],
       "schema": [
        {
         "metadata": "{}",
         "name": "Item_ID",
         "type": "\"string\""
        }
       ],
       "type": "table"
      }
     },
     "output_type": "display_data"
    }
   ],
   "source": [
    "df.select(col('Item_Identifier').alias('Item_ID')).limit(15).display()"
   ]
  },
  {
   "cell_type": "markdown",
   "metadata": {
    "application/vnd.databricks.v1+cell": {
     "cellMetadata": {},
     "inputWidgets": {},
     "nuid": "0673a3d6-3f9d-44a3-a1f1-36c1b34a014a",
     "showTitle": false,
     "tableResultSettingsMap": {},
     "title": ""
    },
    "jupyter": {
     "outputs_hidden": true
    }
   },
   "source": [
    "Filtrar data segun los siguientes requerimientos:\n",
    "- Item_Fat_Content = 'Regular'\n",
    "- Item_type = 'Soft Drinks' y peso menor a 10ml\n",
    "- Ubicacion = 'Tier 1' o 'Tier 2' y el 'Outlet_Location_Size' sea nulo."
   ]
  },
  {
   "cell_type": "markdown",
   "metadata": {
    "application/vnd.databricks.v1+cell": {
     "cellMetadata": {},
     "inputWidgets": {},
     "nuid": "22dfdbf6-fd2f-44f0-a1ba-b265e7cf5039",
     "showTitle": false,
     "tableResultSettingsMap": {},
     "title": ""
    }
   },
   "source": [
    "Requerimiento 1:"
   ]
  },
  {
   "cell_type": "code",
   "execution_count": 0,
   "metadata": {
    "application/vnd.databricks.v1+cell": {
     "cellMetadata": {
      "byteLimit": 2048000,
      "rowLimit": 10000
     },
     "inputWidgets": {},
     "nuid": "218de86d-143e-48e9-ae17-ad811ac26aa4",
     "showTitle": false,
     "tableResultSettingsMap": {},
     "title": ""
    }
   },
   "outputs": [
    {
     "output_type": "display_data",
     "data": {
      "text/html": [
       "<style scoped>\n",
       "  .table-result-container {\n",
       "    max-height: 300px;\n",
       "    overflow: auto;\n",
       "  }\n",
       "  table, th, td {\n",
       "    border: 1px solid black;\n",
       "    border-collapse: collapse;\n",
       "  }\n",
       "  th, td {\n",
       "    padding: 5px;\n",
       "  }\n",
       "  th {\n",
       "    text-align: left;\n",
       "  }\n",
       "</style><div class='table-result-container'><table class='table-result'><thead style='background-color: white'><tr><th>Item_Identifier</th><th>Item_Weight</th><th>Item_Fat_Content</th><th>Item_Visibility</th><th>Item_Type</th><th>Item_MRP</th><th>Outlet_Identifier</th><th>Outlet_Establishment_Year</th><th>Outlet_Size</th><th>Outlet_Location_Type</th><th>Outlet_Type</th><th>Item_Outlet_Sales</th></tr></thead><tbody><tr><td>DRC01</td><td>5.92</td><td>Regular</td><td>0.019278216</td><td>Soft Drinks</td><td>48.2692</td><td>OUT018</td><td>2009</td><td>Medium</td><td>Tier 3</td><td>Supermarket Type2</td><td>443.4228</td></tr><tr><td>FDX07</td><td>19.2</td><td>Regular</td><td>0.0</td><td>Fruits and Vegetables</td><td>182.095</td><td>OUT010</td><td>1998</td><td>null</td><td>Tier 3</td><td>Grocery Store</td><td>732.38</td></tr><tr><td>FDP36</td><td>10.395</td><td>Regular</td><td>0.0</td><td>Baking Goods</td><td>51.4008</td><td>OUT018</td><td>2009</td><td>Medium</td><td>Tier 3</td><td>Supermarket Type2</td><td>556.6088</td></tr><tr><td>FDO10</td><td>13.65</td><td>Regular</td><td>0.012741089</td><td>Snack Foods</td><td>57.6588</td><td>OUT013</td><td>1987</td><td>High</td><td>Tier 3</td><td>Supermarket Type1</td><td>343.5528</td></tr><tr><td>FDH17</td><td>16.2</td><td>Regular</td><td>0.016687114</td><td>Frozen Foods</td><td>96.9726</td><td>OUT045</td><td>2002</td><td>null</td><td>Tier 2</td><td>Supermarket Type1</td><td>1076.5986</td></tr><tr><td>FDU28</td><td>19.2</td><td>Regular</td><td>0.09444959</td><td>Frozen Foods</td><td>187.8214</td><td>OUT017</td><td>2007</td><td>null</td><td>Tier 2</td><td>Supermarket Type1</td><td>4710.535</td></tr><tr><td>FDA03</td><td>18.5</td><td>Regular</td><td>0.045463773</td><td>Dairy</td><td>144.1102</td><td>OUT046</td><td>1997</td><td>Small</td><td>Tier 1</td><td>Supermarket Type1</td><td>2187.153</td></tr><tr><td>FDX32</td><td>15.1</td><td>Regular</td><td>0.1000135</td><td>Fruits and Vegetables</td><td>145.4786</td><td>OUT049</td><td>1999</td><td>Medium</td><td>Tier 1</td><td>Supermarket Type1</td><td>1589.2646</td></tr><tr><td>FDS46</td><td>17.6</td><td>Regular</td><td>0.047257328</td><td>Snack Foods</td><td>119.6782</td><td>OUT046</td><td>1997</td><td>Small</td><td>Tier 1</td><td>Supermarket Type1</td><td>2145.2076</td></tr><tr><td>FDP49</td><td>9.0</td><td>Regular</td><td>0.069088961</td><td>Breakfast</td><td>56.3614</td><td>OUT046</td><td>1997</td><td>Small</td><td>Tier 1</td><td>Supermarket Type1</td><td>1547.3192</td></tr><tr><td>FDP49</td><td>9.0</td><td>Regular</td><td>0.069196376</td><td>Breakfast</td><td>54.3614</td><td>OUT049</td><td>1999</td><td>Medium</td><td>Tier 1</td><td>Supermarket Type1</td><td>718.3982</td></tr><tr><td>FDN22</td><td>18.85</td><td>Regular</td><td>0.138190277</td><td>Snack Foods</td><td>250.8724</td><td>OUT013</td><td>1987</td><td>High</td><td>Tier 3</td><td>Supermarket Type1</td><td>3775.086</td></tr><tr><td>FDW12</td><td>null</td><td>Regular</td><td>0.035399923</td><td>Baking Goods</td><td>144.5444</td><td>OUT027</td><td>1985</td><td>Medium</td><td>Tier 3</td><td>Supermarket Type3</td><td>4064.0432</td></tr><tr><td>FDR28</td><td>13.85</td><td>Regular</td><td>0.025896485</td><td>Frozen Foods</td><td>165.021</td><td>OUT046</td><td>1997</td><td>Small</td><td>Tier 1</td><td>Supermarket Type1</td><td>4078.025</td></tr><tr><td>FDV10</td><td>7.645</td><td>Regular</td><td>0.066693437</td><td>Snack Foods</td><td>42.3112</td><td>OUT035</td><td>2004</td><td>Small</td><td>Tier 2</td><td>Supermarket Type1</td><td>1065.28</td></tr></tbody></table></div>"
      ]
     },
     "metadata": {
      "application/vnd.databricks.v1+output": {
       "addedWidgets": {},
       "aggData": [],
       "aggError": "",
       "aggOverflow": false,
       "aggSchema": [],
       "aggSeriesLimitReached": false,
       "aggType": "",
       "arguments": {},
       "columnCustomDisplayInfos": {},
       "data": [
        [
         "DRC01",
         5.92,
         "Regular",
         0.019278216,
         "Soft Drinks",
         48.2692,
         "OUT018",
         2009,
         "Medium",
         "Tier 3",
         "Supermarket Type2",
         443.4228
        ],
        [
         "FDX07",
         19.2,
         "Regular",
         0.0,
         "Fruits and Vegetables",
         182.095,
         "OUT010",
         1998,
         null,
         "Tier 3",
         "Grocery Store",
         732.38
        ],
        [
         "FDP36",
         10.395,
         "Regular",
         0.0,
         "Baking Goods",
         51.4008,
         "OUT018",
         2009,
         "Medium",
         "Tier 3",
         "Supermarket Type2",
         556.6088
        ],
        [
         "FDO10",
         13.65,
         "Regular",
         0.012741089,
         "Snack Foods",
         57.6588,
         "OUT013",
         1987,
         "High",
         "Tier 3",
         "Supermarket Type1",
         343.5528
        ],
        [
         "FDH17",
         16.2,
         "Regular",
         0.016687114,
         "Frozen Foods",
         96.9726,
         "OUT045",
         2002,
         null,
         "Tier 2",
         "Supermarket Type1",
         1076.5986
        ],
        [
         "FDU28",
         19.2,
         "Regular",
         0.09444959,
         "Frozen Foods",
         187.8214,
         "OUT017",
         2007,
         null,
         "Tier 2",
         "Supermarket Type1",
         4710.535
        ],
        [
         "FDA03",
         18.5,
         "Regular",
         0.045463773,
         "Dairy",
         144.1102,
         "OUT046",
         1997,
         "Small",
         "Tier 1",
         "Supermarket Type1",
         2187.153
        ],
        [
         "FDX32",
         15.1,
         "Regular",
         0.1000135,
         "Fruits and Vegetables",
         145.4786,
         "OUT049",
         1999,
         "Medium",
         "Tier 1",
         "Supermarket Type1",
         1589.2646
        ],
        [
         "FDS46",
         17.6,
         "Regular",
         0.047257328,
         "Snack Foods",
         119.6782,
         "OUT046",
         1997,
         "Small",
         "Tier 1",
         "Supermarket Type1",
         2145.2076
        ],
        [
         "FDP49",
         9.0,
         "Regular",
         0.069088961,
         "Breakfast",
         56.3614,
         "OUT046",
         1997,
         "Small",
         "Tier 1",
         "Supermarket Type1",
         1547.3192
        ],
        [
         "FDP49",
         9.0,
         "Regular",
         0.069196376,
         "Breakfast",
         54.3614,
         "OUT049",
         1999,
         "Medium",
         "Tier 1",
         "Supermarket Type1",
         718.3982
        ],
        [
         "FDN22",
         18.85,
         "Regular",
         0.138190277,
         "Snack Foods",
         250.8724,
         "OUT013",
         1987,
         "High",
         "Tier 3",
         "Supermarket Type1",
         3775.086
        ],
        [
         "FDW12",
         null,
         "Regular",
         0.035399923,
         "Baking Goods",
         144.5444,
         "OUT027",
         1985,
         "Medium",
         "Tier 3",
         "Supermarket Type3",
         4064.0432
        ],
        [
         "FDR28",
         13.85,
         "Regular",
         0.025896485,
         "Frozen Foods",
         165.021,
         "OUT046",
         1997,
         "Small",
         "Tier 1",
         "Supermarket Type1",
         4078.025
        ],
        [
         "FDV10",
         7.645,
         "Regular",
         0.066693437,
         "Snack Foods",
         42.3112,
         "OUT035",
         2004,
         "Small",
         "Tier 2",
         "Supermarket Type1",
         1065.28
        ]
       ],
       "datasetInfos": [],
       "dbfsResultPath": null,
       "isJsonSchema": true,
       "metadata": {},
       "overflow": false,
       "plotOptions": {
        "customPlotOptions": {},
        "displayType": "table",
        "pivotAggregation": null,
        "pivotColumns": null,
        "xColumns": null,
        "yColumns": null
       },
       "removedWidgets": [],
       "schema": [
        {
         "metadata": "{}",
         "name": "Item_Identifier",
         "type": "\"string\""
        },
        {
         "metadata": "{}",
         "name": "Item_Weight",
         "type": "\"double\""
        },
        {
         "metadata": "{}",
         "name": "Item_Fat_Content",
         "type": "\"string\""
        },
        {
         "metadata": "{}",
         "name": "Item_Visibility",
         "type": "\"double\""
        },
        {
         "metadata": "{}",
         "name": "Item_Type",
         "type": "\"string\""
        },
        {
         "metadata": "{}",
         "name": "Item_MRP",
         "type": "\"double\""
        },
        {
         "metadata": "{}",
         "name": "Outlet_Identifier",
         "type": "\"string\""
        },
        {
         "metadata": "{}",
         "name": "Outlet_Establishment_Year",
         "type": "\"integer\""
        },
        {
         "metadata": "{}",
         "name": "Outlet_Size",
         "type": "\"string\""
        },
        {
         "metadata": "{}",
         "name": "Outlet_Location_Type",
         "type": "\"string\""
        },
        {
         "metadata": "{}",
         "name": "Outlet_Type",
         "type": "\"string\""
        },
        {
         "metadata": "{}",
         "name": "Item_Outlet_Sales",
         "type": "\"double\""
        }
       ],
       "type": "table"
      }
     },
     "output_type": "display_data"
    }
   ],
   "source": [
    "df.filter(col('Item_Fat_Content')== 'Regular').limit(15).display()"
   ]
  },
  {
   "cell_type": "markdown",
   "metadata": {
    "application/vnd.databricks.v1+cell": {
     "cellMetadata": {},
     "inputWidgets": {},
     "nuid": "16070794-1a21-449a-96f1-fde2b407c78a",
     "showTitle": false,
     "tableResultSettingsMap": {},
     "title": ""
    }
   },
   "source": []
  },
  {
   "cell_type": "markdown",
   "metadata": {
    "application/vnd.databricks.v1+cell": {
     "cellMetadata": {},
     "inputWidgets": {},
     "nuid": "3b437abc-5532-4c49-8058-fdf96afe5527",
     "showTitle": false,
     "tableResultSettingsMap": {},
     "title": ""
    }
   },
   "source": [
    "Requerimiento 2:"
   ]
  },
  {
   "cell_type": "code",
   "execution_count": 0,
   "metadata": {
    "application/vnd.databricks.v1+cell": {
     "cellMetadata": {
      "byteLimit": 2048000,
      "rowLimit": 10000
     },
     "inputWidgets": {},
     "nuid": "86e25acf-acd8-4ca8-b957-097fb041b337",
     "showTitle": false,
     "tableResultSettingsMap": {},
     "title": ""
    }
   },
   "outputs": [
    {
     "output_type": "display_data",
     "data": {
      "text/html": [
       "<style scoped>\n",
       "  .table-result-container {\n",
       "    max-height: 300px;\n",
       "    overflow: auto;\n",
       "  }\n",
       "  table, th, td {\n",
       "    border: 1px solid black;\n",
       "    border-collapse: collapse;\n",
       "  }\n",
       "  th, td {\n",
       "    padding: 5px;\n",
       "  }\n",
       "  th {\n",
       "    text-align: left;\n",
       "  }\n",
       "</style><div class='table-result-container'><table class='table-result'><thead style='background-color: white'><tr><th>Item_Identifier</th><th>Item_Weight</th><th>Item_Fat_Content</th><th>Item_Visibility</th><th>Item_Type</th><th>Item_MRP</th><th>Outlet_Identifier</th><th>Outlet_Establishment_Year</th><th>Outlet_Size</th><th>Outlet_Location_Type</th><th>Outlet_Type</th><th>Item_Outlet_Sales</th></tr></thead><tbody><tr><td>DRC01</td><td>5.92</td><td>Regular</td><td>0.019278216</td><td>Soft Drinks</td><td>48.2692</td><td>OUT018</td><td>2009</td><td>Medium</td><td>Tier 3</td><td>Supermarket Type2</td><td>443.4228</td></tr><tr><td>DRZ11</td><td>8.85</td><td>Regular</td><td>0.113123893</td><td>Soft Drinks</td><td>122.5388</td><td>OUT018</td><td>2009</td><td>Medium</td><td>Tier 3</td><td>Supermarket Type2</td><td>1609.9044</td></tr><tr><td>DRF49</td><td>7.27</td><td>Low Fat</td><td>0.071077939</td><td>Soft Drinks</td><td>114.2518</td><td>OUT046</td><td>1997</td><td>Small</td><td>Tier 1</td><td>Supermarket Type1</td><td>2618.5914</td></tr><tr><td>DRK12</td><td>9.5</td><td>LF</td><td>0.041878397</td><td>Soft Drinks</td><td>32.99</td><td>OUT035</td><td>2004</td><td>Small</td><td>Tier 2</td><td>Supermarket Type1</td><td>133.16</td></tr><tr><td>DRK01</td><td>7.63</td><td>Low Fat</td><td>0.06105276</td><td>Soft Drinks</td><td>95.4436</td><td>OUT035</td><td>2004</td><td>Small</td><td>Tier 2</td><td>Supermarket Type1</td><td>1418.154</td></tr><tr><td>DRF49</td><td>7.27</td><td>Low Fat</td><td>0.071222087</td><td>Soft Drinks</td><td>113.5518</td><td>OUT045</td><td>2002</td><td>null</td><td>Tier 2</td><td>Supermarket Type1</td><td>569.259</td></tr><tr><td>DRE60</td><td>9.395</td><td>Low Fat</td><td>0.159657596</td><td>Soft Drinks</td><td>224.972</td><td>OUT045</td><td>2002</td><td>null</td><td>Tier 2</td><td>Supermarket Type1</td><td>7696.648</td></tr><tr><td>DRI01</td><td>7.97</td><td>Low Fat</td><td>0.034452949</td><td>Soft Drinks</td><td>174.0422</td><td>OUT046</td><td>1997</td><td>Small</td><td>Tier 1</td><td>Supermarket Type1</td><td>2586.633</td></tr><tr><td>DRD37</td><td>9.8</td><td>Low Fat</td><td>0.013898123</td><td>Soft Drinks</td><td>46.506</td><td>OUT018</td><td>2009</td><td>Medium</td><td>Tier 3</td><td>Supermarket Type2</td><td>372.848</td></tr><tr><td>DRH13</td><td>8.575</td><td>Low Fat</td><td>0.023983258</td><td>Soft Drinks</td><td>106.328</td><td>OUT018</td><td>2009</td><td>Medium</td><td>Tier 3</td><td>Supermarket Type2</td><td>958.752</td></tr><tr><td>DRK37</td><td>5.0</td><td>Low Fat</td><td>0.044004675</td><td>Soft Drinks</td><td>188.853</td><td>OUT046</td><td>1997</td><td>Small</td><td>Tier 1</td><td>Supermarket Type1</td><td>5502.837</td></tr><tr><td>DRF01</td><td>5.655</td><td>Low Fat</td><td>0.175352413</td><td>Soft Drinks</td><td>147.4102</td><td>OUT049</td><td>1999</td><td>Medium</td><td>Tier 1</td><td>Supermarket Type1</td><td>2478.7734</td></tr><tr><td>DRE13</td><td>6.28</td><td>Low Fat</td><td>0.027699863</td><td>Soft Drinks</td><td>87.9198</td><td>OUT035</td><td>2004</td><td>Small</td><td>Tier 2</td><td>Supermarket Type1</td><td>1221.0772</td></tr><tr><td>DRD49</td><td>9.895</td><td>Low Fat</td><td>0.167799329</td><td>Soft Drinks</td><td>239.4564</td><td>OUT035</td><td>2004</td><td>Small</td><td>Tier 2</td><td>Supermarket Type1</td><td>5243.8408</td></tr><tr><td>DRK12</td><td>9.5</td><td>Low Fat</td><td>0.0</td><td>Soft Drinks</td><td>32.89</td><td>OUT010</td><td>1998</td><td>null</td><td>Tier 3</td><td>Grocery Store</td><td>33.29</td></tr></tbody></table></div>"
      ]
     },
     "metadata": {
      "application/vnd.databricks.v1+output": {
       "addedWidgets": {},
       "aggData": [],
       "aggError": "",
       "aggOverflow": false,
       "aggSchema": [],
       "aggSeriesLimitReached": false,
       "aggType": "",
       "arguments": {},
       "columnCustomDisplayInfos": {},
       "data": [
        [
         "DRC01",
         5.92,
         "Regular",
         0.019278216,
         "Soft Drinks",
         48.2692,
         "OUT018",
         2009,
         "Medium",
         "Tier 3",
         "Supermarket Type2",
         443.4228
        ],
        [
         "DRZ11",
         8.85,
         "Regular",
         0.113123893,
         "Soft Drinks",
         122.5388,
         "OUT018",
         2009,
         "Medium",
         "Tier 3",
         "Supermarket Type2",
         1609.9044
        ],
        [
         "DRF49",
         7.27,
         "Low Fat",
         0.071077939,
         "Soft Drinks",
         114.2518,
         "OUT046",
         1997,
         "Small",
         "Tier 1",
         "Supermarket Type1",
         2618.5914
        ],
        [
         "DRK12",
         9.5,
         "LF",
         0.041878397,
         "Soft Drinks",
         32.99,
         "OUT035",
         2004,
         "Small",
         "Tier 2",
         "Supermarket Type1",
         133.16
        ],
        [
         "DRK01",
         7.63,
         "Low Fat",
         0.06105276,
         "Soft Drinks",
         95.4436,
         "OUT035",
         2004,
         "Small",
         "Tier 2",
         "Supermarket Type1",
         1418.154
        ],
        [
         "DRF49",
         7.27,
         "Low Fat",
         0.071222087,
         "Soft Drinks",
         113.5518,
         "OUT045",
         2002,
         null,
         "Tier 2",
         "Supermarket Type1",
         569.259
        ],
        [
         "DRE60",
         9.395,
         "Low Fat",
         0.159657596,
         "Soft Drinks",
         224.972,
         "OUT045",
         2002,
         null,
         "Tier 2",
         "Supermarket Type1",
         7696.648
        ],
        [
         "DRI01",
         7.97,
         "Low Fat",
         0.034452949,
         "Soft Drinks",
         174.0422,
         "OUT046",
         1997,
         "Small",
         "Tier 1",
         "Supermarket Type1",
         2586.633
        ],
        [
         "DRD37",
         9.8,
         "Low Fat",
         0.013898123,
         "Soft Drinks",
         46.506,
         "OUT018",
         2009,
         "Medium",
         "Tier 3",
         "Supermarket Type2",
         372.848
        ],
        [
         "DRH13",
         8.575,
         "Low Fat",
         0.023983258,
         "Soft Drinks",
         106.328,
         "OUT018",
         2009,
         "Medium",
         "Tier 3",
         "Supermarket Type2",
         958.752
        ],
        [
         "DRK37",
         5.0,
         "Low Fat",
         0.044004675,
         "Soft Drinks",
         188.853,
         "OUT046",
         1997,
         "Small",
         "Tier 1",
         "Supermarket Type1",
         5502.837
        ],
        [
         "DRF01",
         5.655,
         "Low Fat",
         0.175352413,
         "Soft Drinks",
         147.4102,
         "OUT049",
         1999,
         "Medium",
         "Tier 1",
         "Supermarket Type1",
         2478.7734
        ],
        [
         "DRE13",
         6.28,
         "Low Fat",
         0.027699863,
         "Soft Drinks",
         87.9198,
         "OUT035",
         2004,
         "Small",
         "Tier 2",
         "Supermarket Type1",
         1221.0772
        ],
        [
         "DRD49",
         9.895,
         "Low Fat",
         0.167799329,
         "Soft Drinks",
         239.4564,
         "OUT035",
         2004,
         "Small",
         "Tier 2",
         "Supermarket Type1",
         5243.8408
        ],
        [
         "DRK12",
         9.5,
         "Low Fat",
         0.0,
         "Soft Drinks",
         32.89,
         "OUT010",
         1998,
         null,
         "Tier 3",
         "Grocery Store",
         33.29
        ]
       ],
       "datasetInfos": [],
       "dbfsResultPath": null,
       "isJsonSchema": true,
       "metadata": {},
       "overflow": false,
       "plotOptions": {
        "customPlotOptions": {},
        "displayType": "table",
        "pivotAggregation": null,
        "pivotColumns": null,
        "xColumns": null,
        "yColumns": null
       },
       "removedWidgets": [],
       "schema": [
        {
         "metadata": "{}",
         "name": "Item_Identifier",
         "type": "\"string\""
        },
        {
         "metadata": "{}",
         "name": "Item_Weight",
         "type": "\"double\""
        },
        {
         "metadata": "{}",
         "name": "Item_Fat_Content",
         "type": "\"string\""
        },
        {
         "metadata": "{}",
         "name": "Item_Visibility",
         "type": "\"double\""
        },
        {
         "metadata": "{}",
         "name": "Item_Type",
         "type": "\"string\""
        },
        {
         "metadata": "{}",
         "name": "Item_MRP",
         "type": "\"double\""
        },
        {
         "metadata": "{}",
         "name": "Outlet_Identifier",
         "type": "\"string\""
        },
        {
         "metadata": "{}",
         "name": "Outlet_Establishment_Year",
         "type": "\"integer\""
        },
        {
         "metadata": "{}",
         "name": "Outlet_Size",
         "type": "\"string\""
        },
        {
         "metadata": "{}",
         "name": "Outlet_Location_Type",
         "type": "\"string\""
        },
        {
         "metadata": "{}",
         "name": "Outlet_Type",
         "type": "\"string\""
        },
        {
         "metadata": "{}",
         "name": "Item_Outlet_Sales",
         "type": "\"double\""
        }
       ],
       "type": "table"
      }
     },
     "output_type": "display_data"
    }
   ],
   "source": [
    "df.filter((col('Item_Type')== 'Soft Drinks') & (col('Item_Weight')< 10)).limit(15).display()"
   ]
  },
  {
   "cell_type": "code",
   "execution_count": 0,
   "metadata": {
    "application/vnd.databricks.v1+cell": {
     "cellMetadata": {
      "byteLimit": 2048000,
      "rowLimit": 10000
     },
     "inputWidgets": {},
     "nuid": "9021af73-3fbd-4a53-947b-ca85ef5f2f6b",
     "showTitle": false,
     "tableResultSettingsMap": {},
     "title": ""
    }
   },
   "outputs": [
    {
     "output_type": "display_data",
     "data": {
      "text/html": [
       "<style scoped>\n",
       "  .table-result-container {\n",
       "    max-height: 300px;\n",
       "    overflow: auto;\n",
       "  }\n",
       "  table, th, td {\n",
       "    border: 1px solid black;\n",
       "    border-collapse: collapse;\n",
       "  }\n",
       "  th, td {\n",
       "    padding: 5px;\n",
       "  }\n",
       "  th {\n",
       "    text-align: left;\n",
       "  }\n",
       "</style><div class='table-result-container'><table class='table-result'><thead style='background-color: white'><tr><th>Item_Identifier</th><th>Item_Weight</th><th>Item_Fat_Content</th><th>Item_Visibility</th><th>Item_Type</th><th>Item_MRP</th><th>Outlet_Identifier</th><th>Outlet_Establishment_Year</th><th>Outlet_Size</th><th>Outlet_Location_Type</th><th>Outlet_Type</th><th>Item_Outlet_Sales</th></tr></thead><tbody><tr><td>FDH17</td><td>16.2</td><td>Regular</td><td>0.016687114</td><td>Frozen Foods</td><td>96.9726</td><td>OUT045</td><td>2002</td><td>null</td><td>Tier 2</td><td>Supermarket Type1</td><td>1076.5986</td></tr><tr><td>FDU28</td><td>19.2</td><td>Regular</td><td>0.09444959</td><td>Frozen Foods</td><td>187.8214</td><td>OUT017</td><td>2007</td><td>null</td><td>Tier 2</td><td>Supermarket Type1</td><td>4710.535</td></tr><tr><td>NCD06</td><td>13.0</td><td>Low Fat</td><td>0.099887103</td><td>Household</td><td>45.906</td><td>OUT017</td><td>2007</td><td>null</td><td>Tier 2</td><td>Supermarket Type1</td><td>838.908</td></tr><tr><td>FDO23</td><td>17.85</td><td>Low Fat</td><td>0.0</td><td>Breads</td><td>93.1436</td><td>OUT045</td><td>2002</td><td>null</td><td>Tier 2</td><td>Supermarket Type1</td><td>2174.5028</td></tr><tr><td>NCP05</td><td>19.6</td><td>Low Fat</td><td>0.0</td><td>Health and Hygiene</td><td>153.3024</td><td>OUT045</td><td>2002</td><td>null</td><td>Tier 2</td><td>Supermarket Type1</td><td>2428.8384</td></tr><tr><td>FDV49</td><td>10.0</td><td>Low Fat</td><td>0.025879577</td><td>Canned</td><td>265.2226</td><td>OUT045</td><td>2002</td><td>null</td><td>Tier 2</td><td>Supermarket Type1</td><td>5815.0972</td></tr><tr><td>FDA43</td><td>10.895</td><td>Low Fat</td><td>0.065041581</td><td>Fruits and Vegetables</td><td>196.3794</td><td>OUT017</td><td>2007</td><td>null</td><td>Tier 2</td><td>Supermarket Type1</td><td>3121.2704</td></tr><tr><td>NCP18</td><td>12.15</td><td>Low Fat</td><td>0.028760013</td><td>Household</td><td>151.4708</td><td>OUT017</td><td>2007</td><td>null</td><td>Tier 2</td><td>Supermarket Type1</td><td>4815.0656</td></tr><tr><td>NCX54</td><td>9.195</td><td>Low Fat</td><td>0.048157338</td><td>Household</td><td>106.1622</td><td>OUT045</td><td>2002</td><td>null</td><td>Tier 2</td><td>Supermarket Type1</td><td>2117.244</td></tr><tr><td>FDV27</td><td>7.97</td><td>Regular</td><td>0.040071131</td><td>Meat</td><td>87.3514</td><td>OUT045</td><td>2002</td><td>null</td><td>Tier 2</td><td>Supermarket Type1</td><td>1062.6168</td></tr><tr><td>FDZ03</td><td>13.65</td><td>Regular</td><td>0.078946455</td><td>Dairy</td><td>186.024</td><td>OUT045</td><td>2002</td><td>null</td><td>Tier 2</td><td>Supermarket Type1</td><td>1118.544</td></tr><tr><td>DRH37</td><td>17.6</td><td>Low Fat</td><td>0.041700756</td><td>Soft Drinks</td><td>164.8526</td><td>OUT045</td><td>2002</td><td>null</td><td>Tier 2</td><td>Supermarket Type1</td><td>2302.3364</td></tr><tr><td>FDH35</td><td>18.25</td><td>Low Fat</td><td>0.0</td><td>Starchy Foods</td><td>164.7526</td><td>OUT045</td><td>2002</td><td>null</td><td>Tier 2</td><td>Supermarket Type1</td><td>4604.6728</td></tr><tr><td>FDG02</td><td>7.855</td><td>Low Fat</td><td>0.011324862</td><td>Canned</td><td>189.6188</td><td>OUT017</td><td>2007</td><td>null</td><td>Tier 2</td><td>Supermarket Type1</td><td>2285.0256</td></tr><tr><td>FDL04</td><td>19.0</td><td>Low Fat</td><td>0.112556507</td><td>Frozen Foods</td><td>104.9622</td><td>OUT017</td><td>2007</td><td>null</td><td>Tier 2</td><td>Supermarket Type1</td><td>1587.933</td></tr></tbody></table></div>"
      ]
     },
     "metadata": {
      "application/vnd.databricks.v1+output": {
       "addedWidgets": {},
       "aggData": [],
       "aggError": "",
       "aggOverflow": false,
       "aggSchema": [],
       "aggSeriesLimitReached": false,
       "aggType": "",
       "arguments": {},
       "columnCustomDisplayInfos": {},
       "data": [
        [
         "FDH17",
         16.2,
         "Regular",
         0.016687114,
         "Frozen Foods",
         96.9726,
         "OUT045",
         2002,
         null,
         "Tier 2",
         "Supermarket Type1",
         1076.5986
        ],
        [
         "FDU28",
         19.2,
         "Regular",
         0.09444959,
         "Frozen Foods",
         187.8214,
         "OUT017",
         2007,
         null,
         "Tier 2",
         "Supermarket Type1",
         4710.535
        ],
        [
         "NCD06",
         13.0,
         "Low Fat",
         0.099887103,
         "Household",
         45.906,
         "OUT017",
         2007,
         null,
         "Tier 2",
         "Supermarket Type1",
         838.908
        ],
        [
         "FDO23",
         17.85,
         "Low Fat",
         0.0,
         "Breads",
         93.1436,
         "OUT045",
         2002,
         null,
         "Tier 2",
         "Supermarket Type1",
         2174.5028
        ],
        [
         "NCP05",
         19.6,
         "Low Fat",
         0.0,
         "Health and Hygiene",
         153.3024,
         "OUT045",
         2002,
         null,
         "Tier 2",
         "Supermarket Type1",
         2428.8384
        ],
        [
         "FDV49",
         10.0,
         "Low Fat",
         0.025879577,
         "Canned",
         265.2226,
         "OUT045",
         2002,
         null,
         "Tier 2",
         "Supermarket Type1",
         5815.0972
        ],
        [
         "FDA43",
         10.895,
         "Low Fat",
         0.065041581,
         "Fruits and Vegetables",
         196.3794,
         "OUT017",
         2007,
         null,
         "Tier 2",
         "Supermarket Type1",
         3121.2704
        ],
        [
         "NCP18",
         12.15,
         "Low Fat",
         0.028760013,
         "Household",
         151.4708,
         "OUT017",
         2007,
         null,
         "Tier 2",
         "Supermarket Type1",
         4815.0656
        ],
        [
         "NCX54",
         9.195,
         "Low Fat",
         0.048157338,
         "Household",
         106.1622,
         "OUT045",
         2002,
         null,
         "Tier 2",
         "Supermarket Type1",
         2117.244
        ],
        [
         "FDV27",
         7.97,
         "Regular",
         0.040071131,
         "Meat",
         87.3514,
         "OUT045",
         2002,
         null,
         "Tier 2",
         "Supermarket Type1",
         1062.6168
        ],
        [
         "FDZ03",
         13.65,
         "Regular",
         0.078946455,
         "Dairy",
         186.024,
         "OUT045",
         2002,
         null,
         "Tier 2",
         "Supermarket Type1",
         1118.544
        ],
        [
         "DRH37",
         17.6,
         "Low Fat",
         0.041700756,
         "Soft Drinks",
         164.8526,
         "OUT045",
         2002,
         null,
         "Tier 2",
         "Supermarket Type1",
         2302.3364
        ],
        [
         "FDH35",
         18.25,
         "Low Fat",
         0.0,
         "Starchy Foods",
         164.7526,
         "OUT045",
         2002,
         null,
         "Tier 2",
         "Supermarket Type1",
         4604.6728
        ],
        [
         "FDG02",
         7.855,
         "Low Fat",
         0.011324862,
         "Canned",
         189.6188,
         "OUT017",
         2007,
         null,
         "Tier 2",
         "Supermarket Type1",
         2285.0256
        ],
        [
         "FDL04",
         19.0,
         "Low Fat",
         0.112556507,
         "Frozen Foods",
         104.9622,
         "OUT017",
         2007,
         null,
         "Tier 2",
         "Supermarket Type1",
         1587.933
        ]
       ],
       "datasetInfos": [],
       "dbfsResultPath": null,
       "isJsonSchema": true,
       "metadata": {},
       "overflow": false,
       "plotOptions": {
        "customPlotOptions": {},
        "displayType": "table",
        "pivotAggregation": null,
        "pivotColumns": null,
        "xColumns": null,
        "yColumns": null
       },
       "removedWidgets": [],
       "schema": [
        {
         "metadata": "{}",
         "name": "Item_Identifier",
         "type": "\"string\""
        },
        {
         "metadata": "{}",
         "name": "Item_Weight",
         "type": "\"double\""
        },
        {
         "metadata": "{}",
         "name": "Item_Fat_Content",
         "type": "\"string\""
        },
        {
         "metadata": "{}",
         "name": "Item_Visibility",
         "type": "\"double\""
        },
        {
         "metadata": "{}",
         "name": "Item_Type",
         "type": "\"string\""
        },
        {
         "metadata": "{}",
         "name": "Item_MRP",
         "type": "\"double\""
        },
        {
         "metadata": "{}",
         "name": "Outlet_Identifier",
         "type": "\"string\""
        },
        {
         "metadata": "{}",
         "name": "Outlet_Establishment_Year",
         "type": "\"integer\""
        },
        {
         "metadata": "{}",
         "name": "Outlet_Size",
         "type": "\"string\""
        },
        {
         "metadata": "{}",
         "name": "Outlet_Location_Type",
         "type": "\"string\""
        },
        {
         "metadata": "{}",
         "name": "Outlet_Type",
         "type": "\"string\""
        },
        {
         "metadata": "{}",
         "name": "Item_Outlet_Sales",
         "type": "\"double\""
        }
       ],
       "type": "table"
      }
     },
     "output_type": "display_data"
    }
   ],
   "source": [
    "df.filter((col('Outlet_Size').isNull()) & (col('Outlet_Location_Type').isin('Tier 1', 'Tier 2'))).limit (15).display()"
   ]
  },
  {
   "cell_type": "code",
   "execution_count": 0,
   "metadata": {
    "application/vnd.databricks.v1+cell": {
     "cellMetadata": {
      "byteLimit": 2048000,
      "rowLimit": 10000
     },
     "inputWidgets": {},
     "nuid": "35c055b3-9e7f-4eb0-ba73-b4035cf3f1a8",
     "showTitle": false,
     "tableResultSettingsMap": {},
     "title": ""
    }
   },
   "outputs": [
    {
     "output_type": "display_data",
     "data": {
      "text/html": [
       "<style scoped>\n",
       "  .table-result-container {\n",
       "    max-height: 300px;\n",
       "    overflow: auto;\n",
       "  }\n",
       "  table, th, td {\n",
       "    border: 1px solid black;\n",
       "    border-collapse: collapse;\n",
       "  }\n",
       "  th, td {\n",
       "    padding: 5px;\n",
       "  }\n",
       "  th {\n",
       "    text-align: left;\n",
       "  }\n",
       "</style><div class='table-result-container'><table class='table-result'><thead style='background-color: white'><tr><th>Item_Identifier</th><th>Item_Weight</th><th>Item_Fat_Content</th><th>Item_Visibility</th><th>Item_Type</th><th>Item_MRP</th><th>Outlet_Identifier</th><th>Outlet_Establishment_Year</th><th>Outlet_Size</th><th>Outlet_Location_Type</th><th>Outlet_Type</th><th>Item_Outlet_Sales</th></tr></thead><tbody></tbody></table></div>"
      ]
     },
     "metadata": {
      "application/vnd.databricks.v1+output": {
       "addedWidgets": {},
       "aggData": [],
       "aggError": "",
       "aggOverflow": false,
       "aggSchema": [],
       "aggSeriesLimitReached": false,
       "aggType": "",
       "arguments": {},
       "columnCustomDisplayInfos": {},
       "data": [],
       "datasetInfos": [],
       "dbfsResultPath": null,
       "isJsonSchema": true,
       "metadata": {},
       "overflow": false,
       "plotOptions": {
        "customPlotOptions": {},
        "displayType": "table",
        "pivotAggregation": null,
        "pivotColumns": null,
        "xColumns": null,
        "yColumns": null
       },
       "removedWidgets": [],
       "schema": [
        {
         "metadata": "{}",
         "name": "Item_Identifier",
         "type": "\"string\""
        },
        {
         "metadata": "{}",
         "name": "Item_Weight",
         "type": "\"double\""
        },
        {
         "metadata": "{}",
         "name": "Item_Fat_Content",
         "type": "\"string\""
        },
        {
         "metadata": "{}",
         "name": "Item_Visibility",
         "type": "\"double\""
        },
        {
         "metadata": "{}",
         "name": "Item_Type",
         "type": "\"string\""
        },
        {
         "metadata": "{}",
         "name": "Item_MRP",
         "type": "\"double\""
        },
        {
         "metadata": "{}",
         "name": "Outlet_Identifier",
         "type": "\"string\""
        },
        {
         "metadata": "{}",
         "name": "Outlet_Establishment_Year",
         "type": "\"integer\""
        },
        {
         "metadata": "{}",
         "name": "Outlet_Size",
         "type": "\"string\""
        },
        {
         "metadata": "{}",
         "name": "Outlet_Location_Type",
         "type": "\"string\""
        },
        {
         "metadata": "{}",
         "name": "Outlet_Type",
         "type": "\"string\""
        },
        {
         "metadata": "{}",
         "name": "Item_Outlet_Sales",
         "type": "\"double\""
        }
       ],
       "type": "table"
      }
     },
     "output_type": "display_data"
    }
   ],
   "source": [
    "# Dado que solo encuentra en Tier 2, verificamos que no existan registro en Tier 1.\n",
    "\n",
    "df.filter((col('Outlet_Size').isNull()) & (col('Outlet_Location_Type').isin('Tier 1'))).limit (15).display()"
   ]
  },
  {
   "cell_type": "markdown",
   "metadata": {
    "application/vnd.databricks.v1+cell": {
     "cellMetadata": {},
     "inputWidgets": {},
     "nuid": "ed15cc8f-41ea-49aa-8913-ccd512c1a7a6",
     "showTitle": false,
     "tableResultSettingsMap": {},
     "title": ""
    }
   },
   "source": [
    "Renombrar una columna\n"
   ]
  },
  {
   "cell_type": "code",
   "execution_count": 0,
   "metadata": {
    "application/vnd.databricks.v1+cell": {
     "cellMetadata": {
      "byteLimit": 2048000,
      "rowLimit": 10000
     },
     "inputWidgets": {},
     "nuid": "72d65358-e609-4523-8665-f75c17ba8475",
     "showTitle": false,
     "tableResultSettingsMap": {},
     "title": ""
    }
   },
   "outputs": [],
   "source": [
    "df = df.withColumnRenamed('Item_Identifier', 'Item_Id')\n"
   ]
  },
  {
   "cell_type": "markdown",
   "metadata": {
    "application/vnd.databricks.v1+cell": {
     "cellMetadata": {},
     "inputWidgets": {},
     "nuid": "bb696ca1-9ad8-442d-812a-f05b6a177bc9",
     "showTitle": false,
     "tableResultSettingsMap": {},
     "title": ""
    }
   },
   "source": [
    "Agregar una columna personalizada (constante)"
   ]
  },
  {
   "cell_type": "code",
   "execution_count": 0,
   "metadata": {
    "application/vnd.databricks.v1+cell": {
     "cellMetadata": {
      "byteLimit": 2048000,
      "rowLimit": 10000
     },
     "inputWidgets": {},
     "nuid": "72ddc289-76bc-4675-8133-e942e553a2c4",
     "showTitle": false,
     "tableResultSettingsMap": {},
     "title": ""
    }
   },
   "outputs": [
    {
     "output_type": "display_data",
     "data": {
      "text/html": [
       "<style scoped>\n",
       "  .table-result-container {\n",
       "    max-height: 300px;\n",
       "    overflow: auto;\n",
       "  }\n",
       "  table, th, td {\n",
       "    border: 1px solid black;\n",
       "    border-collapse: collapse;\n",
       "  }\n",
       "  th, td {\n",
       "    padding: 5px;\n",
       "  }\n",
       "  th {\n",
       "    text-align: left;\n",
       "  }\n",
       "</style><div class='table-result-container'><table class='table-result'><thead style='background-color: white'><tr><th>Item_Identifier</th><th>Item_Weight</th><th>Item_Fat_Content</th><th>Item_Visibility</th><th>Item_Type</th><th>Item_MRP</th><th>Outlet_Identifier</th><th>Outlet_Establishment_Year</th><th>Outlet_Size</th><th>Outlet_Location_Type</th><th>Outlet_Type</th><th>Item_Outlet_Sales</th><th>Flag</th></tr></thead><tbody><tr><td>FDA15</td><td>9.3</td><td>Low Fat</td><td>0.016047301</td><td>Dairy</td><td>249.8092</td><td>OUT049</td><td>1999</td><td>Medium</td><td>Tier 1</td><td>Supermarket Type1</td><td>3735.138</td><td>New</td></tr><tr><td>DRC01</td><td>5.92</td><td>Regular</td><td>0.019278216</td><td>Soft Drinks</td><td>48.2692</td><td>OUT018</td><td>2009</td><td>Medium</td><td>Tier 3</td><td>Supermarket Type2</td><td>443.4228</td><td>New</td></tr><tr><td>FDN15</td><td>17.5</td><td>Low Fat</td><td>0.016760075</td><td>Meat</td><td>141.618</td><td>OUT049</td><td>1999</td><td>Medium</td><td>Tier 1</td><td>Supermarket Type1</td><td>2097.27</td><td>New</td></tr><tr><td>FDX07</td><td>19.2</td><td>Regular</td><td>0.0</td><td>Fruits and Vegetables</td><td>182.095</td><td>OUT010</td><td>1998</td><td>null</td><td>Tier 3</td><td>Grocery Store</td><td>732.38</td><td>New</td></tr><tr><td>NCD19</td><td>8.93</td><td>Low Fat</td><td>0.0</td><td>Household</td><td>53.8614</td><td>OUT013</td><td>1987</td><td>High</td><td>Tier 3</td><td>Supermarket Type1</td><td>994.7052</td><td>New</td></tr><tr><td>FDP36</td><td>10.395</td><td>Regular</td><td>0.0</td><td>Baking Goods</td><td>51.4008</td><td>OUT018</td><td>2009</td><td>Medium</td><td>Tier 3</td><td>Supermarket Type2</td><td>556.6088</td><td>New</td></tr><tr><td>FDO10</td><td>13.65</td><td>Regular</td><td>0.012741089</td><td>Snack Foods</td><td>57.6588</td><td>OUT013</td><td>1987</td><td>High</td><td>Tier 3</td><td>Supermarket Type1</td><td>343.5528</td><td>New</td></tr><tr><td>FDP10</td><td>null</td><td>Low Fat</td><td>0.127469857</td><td>Snack Foods</td><td>107.7622</td><td>OUT027</td><td>1985</td><td>Medium</td><td>Tier 3</td><td>Supermarket Type3</td><td>4022.7636</td><td>New</td></tr><tr><td>FDH17</td><td>16.2</td><td>Regular</td><td>0.016687114</td><td>Frozen Foods</td><td>96.9726</td><td>OUT045</td><td>2002</td><td>null</td><td>Tier 2</td><td>Supermarket Type1</td><td>1076.5986</td><td>New</td></tr><tr><td>FDU28</td><td>19.2</td><td>Regular</td><td>0.09444959</td><td>Frozen Foods</td><td>187.8214</td><td>OUT017</td><td>2007</td><td>null</td><td>Tier 2</td><td>Supermarket Type1</td><td>4710.535</td><td>New</td></tr><tr><td>FDY07</td><td>11.8</td><td>Low Fat</td><td>0.0</td><td>Fruits and Vegetables</td><td>45.5402</td><td>OUT049</td><td>1999</td><td>Medium</td><td>Tier 1</td><td>Supermarket Type1</td><td>1516.0266</td><td>New</td></tr><tr><td>FDA03</td><td>18.5</td><td>Regular</td><td>0.045463773</td><td>Dairy</td><td>144.1102</td><td>OUT046</td><td>1997</td><td>Small</td><td>Tier 1</td><td>Supermarket Type1</td><td>2187.153</td><td>New</td></tr><tr><td>FDX32</td><td>15.1</td><td>Regular</td><td>0.1000135</td><td>Fruits and Vegetables</td><td>145.4786</td><td>OUT049</td><td>1999</td><td>Medium</td><td>Tier 1</td><td>Supermarket Type1</td><td>1589.2646</td><td>New</td></tr><tr><td>FDS46</td><td>17.6</td><td>Regular</td><td>0.047257328</td><td>Snack Foods</td><td>119.6782</td><td>OUT046</td><td>1997</td><td>Small</td><td>Tier 1</td><td>Supermarket Type1</td><td>2145.2076</td><td>New</td></tr><tr><td>FDF32</td><td>16.35</td><td>Low Fat</td><td>0.0680243</td><td>Fruits and Vegetables</td><td>196.4426</td><td>OUT013</td><td>1987</td><td>High</td><td>Tier 3</td><td>Supermarket Type1</td><td>1977.426</td><td>New</td></tr></tbody></table></div>"
      ]
     },
     "metadata": {
      "application/vnd.databricks.v1+output": {
       "addedWidgets": {},
       "aggData": [],
       "aggError": "",
       "aggOverflow": false,
       "aggSchema": [],
       "aggSeriesLimitReached": false,
       "aggType": "",
       "arguments": {},
       "columnCustomDisplayInfos": {},
       "data": [
        [
         "FDA15",
         9.3,
         "Low Fat",
         0.016047301,
         "Dairy",
         249.8092,
         "OUT049",
         "1999",
         "Medium",
         "Tier 1",
         "Supermarket Type1",
         3735.138,
         "New"
        ],
        [
         "DRC01",
         5.92,
         "Regular",
         0.019278216,
         "Soft Drinks",
         48.2692,
         "OUT018",
         "2009",
         "Medium",
         "Tier 3",
         "Supermarket Type2",
         443.4228,
         "New"
        ],
        [
         "FDN15",
         17.5,
         "Low Fat",
         0.016760075,
         "Meat",
         141.618,
         "OUT049",
         "1999",
         "Medium",
         "Tier 1",
         "Supermarket Type1",
         2097.27,
         "New"
        ],
        [
         "FDX07",
         19.2,
         "Regular",
         0.0,
         "Fruits and Vegetables",
         182.095,
         "OUT010",
         "1998",
         null,
         "Tier 3",
         "Grocery Store",
         732.38,
         "New"
        ],
        [
         "NCD19",
         8.93,
         "Low Fat",
         0.0,
         "Household",
         53.8614,
         "OUT013",
         "1987",
         "High",
         "Tier 3",
         "Supermarket Type1",
         994.7052,
         "New"
        ],
        [
         "FDP36",
         10.395,
         "Regular",
         0.0,
         "Baking Goods",
         51.4008,
         "OUT018",
         "2009",
         "Medium",
         "Tier 3",
         "Supermarket Type2",
         556.6088,
         "New"
        ],
        [
         "FDO10",
         13.65,
         "Regular",
         0.012741089,
         "Snack Foods",
         57.6588,
         "OUT013",
         "1987",
         "High",
         "Tier 3",
         "Supermarket Type1",
         343.5528,
         "New"
        ],
        [
         "FDP10",
         null,
         "Low Fat",
         0.127469857,
         "Snack Foods",
         107.7622,
         "OUT027",
         "1985",
         "Medium",
         "Tier 3",
         "Supermarket Type3",
         4022.7636,
         "New"
        ],
        [
         "FDH17",
         16.2,
         "Regular",
         0.016687114,
         "Frozen Foods",
         96.9726,
         "OUT045",
         "2002",
         null,
         "Tier 2",
         "Supermarket Type1",
         1076.5986,
         "New"
        ],
        [
         "FDU28",
         19.2,
         "Regular",
         0.09444959,
         "Frozen Foods",
         187.8214,
         "OUT017",
         "2007",
         null,
         "Tier 2",
         "Supermarket Type1",
         4710.535,
         "New"
        ],
        [
         "FDY07",
         11.8,
         "Low Fat",
         0.0,
         "Fruits and Vegetables",
         45.5402,
         "OUT049",
         "1999",
         "Medium",
         "Tier 1",
         "Supermarket Type1",
         1516.0266,
         "New"
        ],
        [
         "FDA03",
         18.5,
         "Regular",
         0.045463773,
         "Dairy",
         144.1102,
         "OUT046",
         "1997",
         "Small",
         "Tier 1",
         "Supermarket Type1",
         2187.153,
         "New"
        ],
        [
         "FDX32",
         15.1,
         "Regular",
         0.1000135,
         "Fruits and Vegetables",
         145.4786,
         "OUT049",
         "1999",
         "Medium",
         "Tier 1",
         "Supermarket Type1",
         1589.2646,
         "New"
        ],
        [
         "FDS46",
         17.6,
         "Regular",
         0.047257328,
         "Snack Foods",
         119.6782,
         "OUT046",
         "1997",
         "Small",
         "Tier 1",
         "Supermarket Type1",
         2145.2076,
         "New"
        ],
        [
         "FDF32",
         16.35,
         "Low Fat",
         0.0680243,
         "Fruits and Vegetables",
         196.4426,
         "OUT013",
         "1987",
         "High",
         "Tier 3",
         "Supermarket Type1",
         1977.426,
         "New"
        ]
       ],
       "datasetInfos": [],
       "dbfsResultPath": null,
       "isJsonSchema": true,
       "metadata": {},
       "overflow": false,
       "plotOptions": {
        "customPlotOptions": {},
        "displayType": "table",
        "pivotAggregation": null,
        "pivotColumns": null,
        "xColumns": null,
        "yColumns": null
       },
       "removedWidgets": [],
       "schema": [
        {
         "metadata": "{}",
         "name": "Item_Identifier",
         "type": "\"string\""
        },
        {
         "metadata": "{}",
         "name": "Item_Weight",
         "type": "\"double\""
        },
        {
         "metadata": "{}",
         "name": "Item_Fat_Content",
         "type": "\"string\""
        },
        {
         "metadata": "{}",
         "name": "Item_Visibility",
         "type": "\"double\""
        },
        {
         "metadata": "{}",
         "name": "Item_Type",
         "type": "\"string\""
        },
        {
         "metadata": "{}",
         "name": "Item_MRP",
         "type": "\"double\""
        },
        {
         "metadata": "{}",
         "name": "Outlet_Identifier",
         "type": "\"string\""
        },
        {
         "metadata": "{}",
         "name": "Outlet_Establishment_Year",
         "type": "\"string\""
        },
        {
         "metadata": "{}",
         "name": "Outlet_Size",
         "type": "\"string\""
        },
        {
         "metadata": "{}",
         "name": "Outlet_Location_Type",
         "type": "\"string\""
        },
        {
         "metadata": "{}",
         "name": "Outlet_Type",
         "type": "\"string\""
        },
        {
         "metadata": "{}",
         "name": "Item_Outlet_Sales",
         "type": "\"double\""
        },
        {
         "metadata": "{}",
         "name": "Flag",
         "type": "\"string\""
        }
       ],
       "type": "table"
      }
     },
     "output_type": "display_data"
    }
   ],
   "source": [
    "df = df.withColumn('Flag', lit('New'))\n",
    "\n",
    "df.limit(15).display()"
   ]
  },
  {
   "cell_type": "markdown",
   "metadata": {
    "application/vnd.databricks.v1+cell": {
     "cellMetadata": {},
     "inputWidgets": {},
     "nuid": "207b849b-78b2-474d-af14-633d2462ffc8",
     "showTitle": false,
     "tableResultSettingsMap": {},
     "title": ""
    }
   },
   "source": [
    "Agregar una columna calculada (calculo matematico)\\\n",
    "'Item_Weight'*'Item_Outlet_Sales'\n"
   ]
  },
  {
   "cell_type": "code",
   "execution_count": 0,
   "metadata": {
    "application/vnd.databricks.v1+cell": {
     "cellMetadata": {
      "byteLimit": 2048000,
      "rowLimit": 10000
     },
     "inputWidgets": {},
     "nuid": "d5ed1b06-a12b-4a56-bf94-1e57538c9d2a",
     "showTitle": false,
     "tableResultSettingsMap": {},
     "title": ""
    }
   },
   "outputs": [
    {
     "output_type": "display_data",
     "data": {
      "text/html": [
       "<style scoped>\n",
       "  .table-result-container {\n",
       "    max-height: 300px;\n",
       "    overflow: auto;\n",
       "  }\n",
       "  table, th, td {\n",
       "    border: 1px solid black;\n",
       "    border-collapse: collapse;\n",
       "  }\n",
       "  th, td {\n",
       "    padding: 5px;\n",
       "  }\n",
       "  th {\n",
       "    text-align: left;\n",
       "  }\n",
       "</style><div class='table-result-container'><table class='table-result'><thead style='background-color: white'><tr><th>Item_Identifier</th><th>Item_Weight</th><th>Item_Fat_Content</th><th>Item_Visibility</th><th>Item_Type</th><th>Item_MRP</th><th>Outlet_Identifier</th><th>Outlet_Establishment_Year</th><th>Outlet_Size</th><th>Outlet_Location_Type</th><th>Outlet_Type</th><th>Item_Outlet_Sales</th><th>Flag</th><th>multiply</th></tr></thead><tbody><tr><td>FDA15</td><td>9.3</td><td>Low Fat</td><td>0.016047301</td><td>Dairy</td><td>249.8092</td><td>OUT049</td><td>1999</td><td>Medium</td><td>Tier 1</td><td>Supermarket Type1</td><td>3735.138</td><td>New</td><td>34736.7834</td></tr><tr><td>DRC01</td><td>5.92</td><td>Regular</td><td>0.019278216</td><td>Soft Drinks</td><td>48.2692</td><td>OUT018</td><td>2009</td><td>Medium</td><td>Tier 3</td><td>Supermarket Type2</td><td>443.4228</td><td>New</td><td>2625.062976</td></tr><tr><td>FDN15</td><td>17.5</td><td>Low Fat</td><td>0.016760075</td><td>Meat</td><td>141.618</td><td>OUT049</td><td>1999</td><td>Medium</td><td>Tier 1</td><td>Supermarket Type1</td><td>2097.27</td><td>New</td><td>36702.225</td></tr><tr><td>FDX07</td><td>19.2</td><td>Regular</td><td>0.0</td><td>Fruits and Vegetables</td><td>182.095</td><td>OUT010</td><td>1998</td><td>null</td><td>Tier 3</td><td>Grocery Store</td><td>732.38</td><td>New</td><td>14061.696</td></tr><tr><td>NCD19</td><td>8.93</td><td>Low Fat</td><td>0.0</td><td>Household</td><td>53.8614</td><td>OUT013</td><td>1987</td><td>High</td><td>Tier 3</td><td>Supermarket Type1</td><td>994.7052</td><td>New</td><td>8882.717435999999</td></tr><tr><td>FDP36</td><td>10.395</td><td>Regular</td><td>0.0</td><td>Baking Goods</td><td>51.4008</td><td>OUT018</td><td>2009</td><td>Medium</td><td>Tier 3</td><td>Supermarket Type2</td><td>556.6088</td><td>New</td><td>5785.948476</td></tr><tr><td>FDO10</td><td>13.65</td><td>Regular</td><td>0.012741089</td><td>Snack Foods</td><td>57.6588</td><td>OUT013</td><td>1987</td><td>High</td><td>Tier 3</td><td>Supermarket Type1</td><td>343.5528</td><td>New</td><td>4689.49572</td></tr><tr><td>FDP10</td><td>null</td><td>Low Fat</td><td>0.127469857</td><td>Snack Foods</td><td>107.7622</td><td>OUT027</td><td>1985</td><td>Medium</td><td>Tier 3</td><td>Supermarket Type3</td><td>4022.7636</td><td>New</td><td>null</td></tr><tr><td>FDH17</td><td>16.2</td><td>Regular</td><td>0.016687114</td><td>Frozen Foods</td><td>96.9726</td><td>OUT045</td><td>2002</td><td>null</td><td>Tier 2</td><td>Supermarket Type1</td><td>1076.5986</td><td>New</td><td>17440.89732</td></tr><tr><td>FDU28</td><td>19.2</td><td>Regular</td><td>0.09444959</td><td>Frozen Foods</td><td>187.8214</td><td>OUT017</td><td>2007</td><td>null</td><td>Tier 2</td><td>Supermarket Type1</td><td>4710.535</td><td>New</td><td>90442.272</td></tr><tr><td>FDY07</td><td>11.8</td><td>Low Fat</td><td>0.0</td><td>Fruits and Vegetables</td><td>45.5402</td><td>OUT049</td><td>1999</td><td>Medium</td><td>Tier 1</td><td>Supermarket Type1</td><td>1516.0266</td><td>New</td><td>17889.11388</td></tr><tr><td>FDA03</td><td>18.5</td><td>Regular</td><td>0.045463773</td><td>Dairy</td><td>144.1102</td><td>OUT046</td><td>1997</td><td>Small</td><td>Tier 1</td><td>Supermarket Type1</td><td>2187.153</td><td>New</td><td>40462.3305</td></tr><tr><td>FDX32</td><td>15.1</td><td>Regular</td><td>0.1000135</td><td>Fruits and Vegetables</td><td>145.4786</td><td>OUT049</td><td>1999</td><td>Medium</td><td>Tier 1</td><td>Supermarket Type1</td><td>1589.2646</td><td>New</td><td>23997.89546</td></tr><tr><td>FDS46</td><td>17.6</td><td>Regular</td><td>0.047257328</td><td>Snack Foods</td><td>119.6782</td><td>OUT046</td><td>1997</td><td>Small</td><td>Tier 1</td><td>Supermarket Type1</td><td>2145.2076</td><td>New</td><td>37755.65376000001</td></tr><tr><td>FDF32</td><td>16.35</td><td>Low Fat</td><td>0.0680243</td><td>Fruits and Vegetables</td><td>196.4426</td><td>OUT013</td><td>1987</td><td>High</td><td>Tier 3</td><td>Supermarket Type1</td><td>1977.426</td><td>New</td><td>32330.915100000002</td></tr></tbody></table></div>"
      ]
     },
     "metadata": {
      "application/vnd.databricks.v1+output": {
       "addedWidgets": {},
       "aggData": [],
       "aggError": "",
       "aggOverflow": false,
       "aggSchema": [],
       "aggSeriesLimitReached": false,
       "aggType": "",
       "arguments": {},
       "columnCustomDisplayInfos": {},
       "data": [
        [
         "FDA15",
         9.3,
         "Low Fat",
         0.016047301,
         "Dairy",
         249.8092,
         "OUT049",
         "1999",
         "Medium",
         "Tier 1",
         "Supermarket Type1",
         3735.138,
         "New",
         34736.7834
        ],
        [
         "DRC01",
         5.92,
         "Regular",
         0.019278216,
         "Soft Drinks",
         48.2692,
         "OUT018",
         "2009",
         "Medium",
         "Tier 3",
         "Supermarket Type2",
         443.4228,
         "New",
         2625.062976
        ],
        [
         "FDN15",
         17.5,
         "Low Fat",
         0.016760075,
         "Meat",
         141.618,
         "OUT049",
         "1999",
         "Medium",
         "Tier 1",
         "Supermarket Type1",
         2097.27,
         "New",
         36702.225
        ],
        [
         "FDX07",
         19.2,
         "Regular",
         0.0,
         "Fruits and Vegetables",
         182.095,
         "OUT010",
         "1998",
         null,
         "Tier 3",
         "Grocery Store",
         732.38,
         "New",
         14061.696
        ],
        [
         "NCD19",
         8.93,
         "Low Fat",
         0.0,
         "Household",
         53.8614,
         "OUT013",
         "1987",
         "High",
         "Tier 3",
         "Supermarket Type1",
         994.7052,
         "New",
         8882.717435999999
        ],
        [
         "FDP36",
         10.395,
         "Regular",
         0.0,
         "Baking Goods",
         51.4008,
         "OUT018",
         "2009",
         "Medium",
         "Tier 3",
         "Supermarket Type2",
         556.6088,
         "New",
         5785.948476
        ],
        [
         "FDO10",
         13.65,
         "Regular",
         0.012741089,
         "Snack Foods",
         57.6588,
         "OUT013",
         "1987",
         "High",
         "Tier 3",
         "Supermarket Type1",
         343.5528,
         "New",
         4689.49572
        ],
        [
         "FDP10",
         null,
         "Low Fat",
         0.127469857,
         "Snack Foods",
         107.7622,
         "OUT027",
         "1985",
         "Medium",
         "Tier 3",
         "Supermarket Type3",
         4022.7636,
         "New",
         null
        ],
        [
         "FDH17",
         16.2,
         "Regular",
         0.016687114,
         "Frozen Foods",
         96.9726,
         "OUT045",
         "2002",
         null,
         "Tier 2",
         "Supermarket Type1",
         1076.5986,
         "New",
         17440.89732
        ],
        [
         "FDU28",
         19.2,
         "Regular",
         0.09444959,
         "Frozen Foods",
         187.8214,
         "OUT017",
         "2007",
         null,
         "Tier 2",
         "Supermarket Type1",
         4710.535,
         "New",
         90442.272
        ],
        [
         "FDY07",
         11.8,
         "Low Fat",
         0.0,
         "Fruits and Vegetables",
         45.5402,
         "OUT049",
         "1999",
         "Medium",
         "Tier 1",
         "Supermarket Type1",
         1516.0266,
         "New",
         17889.11388
        ],
        [
         "FDA03",
         18.5,
         "Regular",
         0.045463773,
         "Dairy",
         144.1102,
         "OUT046",
         "1997",
         "Small",
         "Tier 1",
         "Supermarket Type1",
         2187.153,
         "New",
         40462.3305
        ],
        [
         "FDX32",
         15.1,
         "Regular",
         0.1000135,
         "Fruits and Vegetables",
         145.4786,
         "OUT049",
         "1999",
         "Medium",
         "Tier 1",
         "Supermarket Type1",
         1589.2646,
         "New",
         23997.89546
        ],
        [
         "FDS46",
         17.6,
         "Regular",
         0.047257328,
         "Snack Foods",
         119.6782,
         "OUT046",
         "1997",
         "Small",
         "Tier 1",
         "Supermarket Type1",
         2145.2076,
         "New",
         37755.65376000001
        ],
        [
         "FDF32",
         16.35,
         "Low Fat",
         0.0680243,
         "Fruits and Vegetables",
         196.4426,
         "OUT013",
         "1987",
         "High",
         "Tier 3",
         "Supermarket Type1",
         1977.426,
         "New",
         32330.915100000002
        ]
       ],
       "datasetInfos": [],
       "dbfsResultPath": null,
       "isJsonSchema": true,
       "metadata": {},
       "overflow": false,
       "plotOptions": {
        "customPlotOptions": {},
        "displayType": "table",
        "pivotAggregation": null,
        "pivotColumns": null,
        "xColumns": null,
        "yColumns": null
       },
       "removedWidgets": [],
       "schema": [
        {
         "metadata": "{}",
         "name": "Item_Identifier",
         "type": "\"string\""
        },
        {
         "metadata": "{}",
         "name": "Item_Weight",
         "type": "\"double\""
        },
        {
         "metadata": "{}",
         "name": "Item_Fat_Content",
         "type": "\"string\""
        },
        {
         "metadata": "{}",
         "name": "Item_Visibility",
         "type": "\"double\""
        },
        {
         "metadata": "{}",
         "name": "Item_Type",
         "type": "\"string\""
        },
        {
         "metadata": "{}",
         "name": "Item_MRP",
         "type": "\"double\""
        },
        {
         "metadata": "{}",
         "name": "Outlet_Identifier",
         "type": "\"string\""
        },
        {
         "metadata": "{}",
         "name": "Outlet_Establishment_Year",
         "type": "\"string\""
        },
        {
         "metadata": "{}",
         "name": "Outlet_Size",
         "type": "\"string\""
        },
        {
         "metadata": "{}",
         "name": "Outlet_Location_Type",
         "type": "\"string\""
        },
        {
         "metadata": "{}",
         "name": "Outlet_Type",
         "type": "\"string\""
        },
        {
         "metadata": "{}",
         "name": "Item_Outlet_Sales",
         "type": "\"double\""
        },
        {
         "metadata": "{}",
         "name": "Flag",
         "type": "\"string\""
        },
        {
         "metadata": "{}",
         "name": "multiply",
         "type": "\"double\""
        }
       ],
       "type": "table"
      }
     },
     "output_type": "display_data"
    }
   ],
   "source": [
    "df = df.withColumn('multiply',col('Item_Weight')* col('Item_Outlet_Sales'))\n",
    "\n",
    "df.limit(15).display()"
   ]
  },
  {
   "cell_type": "markdown",
   "metadata": {
    "application/vnd.databricks.v1+cell": {
     "cellMetadata": {},
     "inputWidgets": {},
     "nuid": "7161db3d-4817-4181-8752-570b02446f77",
     "showTitle": false,
     "tableResultSettingsMap": {},
     "title": ""
    }
   },
   "source": [
    "Sustituir valores en un columna\n",
    "'Outlet_Size'"
   ]
  },
  {
   "cell_type": "code",
   "execution_count": 0,
   "metadata": {
    "application/vnd.databricks.v1+cell": {
     "cellMetadata": {
      "byteLimit": 2048000,
      "rowLimit": 10000
     },
     "inputWidgets": {},
     "nuid": "4a0cf78c-c0ef-4179-9064-78a14bbefef5",
     "showTitle": false,
     "tableResultSettingsMap": {},
     "title": ""
    }
   },
   "outputs": [
    {
     "output_type": "display_data",
     "data": {
      "text/html": [
       "<style scoped>\n",
       "  .table-result-container {\n",
       "    max-height: 300px;\n",
       "    overflow: auto;\n",
       "  }\n",
       "  table, th, td {\n",
       "    border: 1px solid black;\n",
       "    border-collapse: collapse;\n",
       "  }\n",
       "  th, td {\n",
       "    padding: 5px;\n",
       "  }\n",
       "  th {\n",
       "    text-align: left;\n",
       "  }\n",
       "</style><div class='table-result-container'><table class='table-result'><thead style='background-color: white'><tr><th>Item_Identifier</th><th>Item_Weight</th><th>Item_Fat_Content</th><th>Item_Visibility</th><th>Item_Type</th><th>Item_MRP</th><th>Outlet_Identifier</th><th>Outlet_Establishment_Year</th><th>Outlet_Size</th><th>Outlet_Location_Type</th><th>Outlet_Type</th><th>Item_Outlet_Sales</th><th>Flag</th><th>multiply</th></tr></thead><tbody><tr><td>FDA15</td><td>9.3</td><td>Low Fat</td><td>0.016047301</td><td>Dairy</td><td>249.8092</td><td>OUT049</td><td>1999</td><td>M</td><td>Tier 1</td><td>Supermarket Type1</td><td>3735.138</td><td>New</td><td>34736.7834</td></tr><tr><td>DRC01</td><td>5.92</td><td>Regular</td><td>0.019278216</td><td>Soft Drinks</td><td>48.2692</td><td>OUT018</td><td>2009</td><td>M</td><td>Tier 3</td><td>Supermarket Type2</td><td>443.4228</td><td>New</td><td>2625.062976</td></tr><tr><td>FDN15</td><td>17.5</td><td>Low Fat</td><td>0.016760075</td><td>Meat</td><td>141.618</td><td>OUT049</td><td>1999</td><td>M</td><td>Tier 1</td><td>Supermarket Type1</td><td>2097.27</td><td>New</td><td>36702.225</td></tr><tr><td>FDX07</td><td>19.2</td><td>Regular</td><td>0.0</td><td>Fruits and Vegetables</td><td>182.095</td><td>OUT010</td><td>1998</td><td>null</td><td>Tier 3</td><td>Grocery Store</td><td>732.38</td><td>New</td><td>14061.696</td></tr><tr><td>NCD19</td><td>8.93</td><td>Low Fat</td><td>0.0</td><td>Household</td><td>53.8614</td><td>OUT013</td><td>1987</td><td>L</td><td>Tier 3</td><td>Supermarket Type1</td><td>994.7052</td><td>New</td><td>8882.717435999999</td></tr><tr><td>FDP36</td><td>10.395</td><td>Regular</td><td>0.0</td><td>Baking Goods</td><td>51.4008</td><td>OUT018</td><td>2009</td><td>M</td><td>Tier 3</td><td>Supermarket Type2</td><td>556.6088</td><td>New</td><td>5785.948476</td></tr><tr><td>FDO10</td><td>13.65</td><td>Regular</td><td>0.012741089</td><td>Snack Foods</td><td>57.6588</td><td>OUT013</td><td>1987</td><td>L</td><td>Tier 3</td><td>Supermarket Type1</td><td>343.5528</td><td>New</td><td>4689.49572</td></tr><tr><td>FDP10</td><td>null</td><td>Low Fat</td><td>0.127469857</td><td>Snack Foods</td><td>107.7622</td><td>OUT027</td><td>1985</td><td>M</td><td>Tier 3</td><td>Supermarket Type3</td><td>4022.7636</td><td>New</td><td>null</td></tr><tr><td>FDH17</td><td>16.2</td><td>Regular</td><td>0.016687114</td><td>Frozen Foods</td><td>96.9726</td><td>OUT045</td><td>2002</td><td>null</td><td>Tier 2</td><td>Supermarket Type1</td><td>1076.5986</td><td>New</td><td>17440.89732</td></tr><tr><td>FDU28</td><td>19.2</td><td>Regular</td><td>0.09444959</td><td>Frozen Foods</td><td>187.8214</td><td>OUT017</td><td>2007</td><td>null</td><td>Tier 2</td><td>Supermarket Type1</td><td>4710.535</td><td>New</td><td>90442.272</td></tr><tr><td>FDY07</td><td>11.8</td><td>Low Fat</td><td>0.0</td><td>Fruits and Vegetables</td><td>45.5402</td><td>OUT049</td><td>1999</td><td>M</td><td>Tier 1</td><td>Supermarket Type1</td><td>1516.0266</td><td>New</td><td>17889.11388</td></tr><tr><td>FDA03</td><td>18.5</td><td>Regular</td><td>0.045463773</td><td>Dairy</td><td>144.1102</td><td>OUT046</td><td>1997</td><td>S</td><td>Tier 1</td><td>Supermarket Type1</td><td>2187.153</td><td>New</td><td>40462.3305</td></tr><tr><td>FDX32</td><td>15.1</td><td>Regular</td><td>0.1000135</td><td>Fruits and Vegetables</td><td>145.4786</td><td>OUT049</td><td>1999</td><td>M</td><td>Tier 1</td><td>Supermarket Type1</td><td>1589.2646</td><td>New</td><td>23997.89546</td></tr><tr><td>FDS46</td><td>17.6</td><td>Regular</td><td>0.047257328</td><td>Snack Foods</td><td>119.6782</td><td>OUT046</td><td>1997</td><td>S</td><td>Tier 1</td><td>Supermarket Type1</td><td>2145.2076</td><td>New</td><td>37755.65376000001</td></tr><tr><td>FDF32</td><td>16.35</td><td>Low Fat</td><td>0.0680243</td><td>Fruits and Vegetables</td><td>196.4426</td><td>OUT013</td><td>1987</td><td>L</td><td>Tier 3</td><td>Supermarket Type1</td><td>1977.426</td><td>New</td><td>32330.915100000002</td></tr></tbody></table></div>"
      ]
     },
     "metadata": {
      "application/vnd.databricks.v1+output": {
       "addedWidgets": {},
       "aggData": [],
       "aggError": "",
       "aggOverflow": false,
       "aggSchema": [],
       "aggSeriesLimitReached": false,
       "aggType": "",
       "arguments": {},
       "columnCustomDisplayInfos": {},
       "data": [
        [
         "FDA15",
         9.3,
         "Low Fat",
         0.016047301,
         "Dairy",
         249.8092,
         "OUT049",
         "1999",
         "M",
         "Tier 1",
         "Supermarket Type1",
         3735.138,
         "New",
         34736.7834
        ],
        [
         "DRC01",
         5.92,
         "Regular",
         0.019278216,
         "Soft Drinks",
         48.2692,
         "OUT018",
         "2009",
         "M",
         "Tier 3",
         "Supermarket Type2",
         443.4228,
         "New",
         2625.062976
        ],
        [
         "FDN15",
         17.5,
         "Low Fat",
         0.016760075,
         "Meat",
         141.618,
         "OUT049",
         "1999",
         "M",
         "Tier 1",
         "Supermarket Type1",
         2097.27,
         "New",
         36702.225
        ],
        [
         "FDX07",
         19.2,
         "Regular",
         0.0,
         "Fruits and Vegetables",
         182.095,
         "OUT010",
         "1998",
         null,
         "Tier 3",
         "Grocery Store",
         732.38,
         "New",
         14061.696
        ],
        [
         "NCD19",
         8.93,
         "Low Fat",
         0.0,
         "Household",
         53.8614,
         "OUT013",
         "1987",
         "L",
         "Tier 3",
         "Supermarket Type1",
         994.7052,
         "New",
         8882.717435999999
        ],
        [
         "FDP36",
         10.395,
         "Regular",
         0.0,
         "Baking Goods",
         51.4008,
         "OUT018",
         "2009",
         "M",
         "Tier 3",
         "Supermarket Type2",
         556.6088,
         "New",
         5785.948476
        ],
        [
         "FDO10",
         13.65,
         "Regular",
         0.012741089,
         "Snack Foods",
         57.6588,
         "OUT013",
         "1987",
         "L",
         "Tier 3",
         "Supermarket Type1",
         343.5528,
         "New",
         4689.49572
        ],
        [
         "FDP10",
         null,
         "Low Fat",
         0.127469857,
         "Snack Foods",
         107.7622,
         "OUT027",
         "1985",
         "M",
         "Tier 3",
         "Supermarket Type3",
         4022.7636,
         "New",
         null
        ],
        [
         "FDH17",
         16.2,
         "Regular",
         0.016687114,
         "Frozen Foods",
         96.9726,
         "OUT045",
         "2002",
         null,
         "Tier 2",
         "Supermarket Type1",
         1076.5986,
         "New",
         17440.89732
        ],
        [
         "FDU28",
         19.2,
         "Regular",
         0.09444959,
         "Frozen Foods",
         187.8214,
         "OUT017",
         "2007",
         null,
         "Tier 2",
         "Supermarket Type1",
         4710.535,
         "New",
         90442.272
        ],
        [
         "FDY07",
         11.8,
         "Low Fat",
         0.0,
         "Fruits and Vegetables",
         45.5402,
         "OUT049",
         "1999",
         "M",
         "Tier 1",
         "Supermarket Type1",
         1516.0266,
         "New",
         17889.11388
        ],
        [
         "FDA03",
         18.5,
         "Regular",
         0.045463773,
         "Dairy",
         144.1102,
         "OUT046",
         "1997",
         "S",
         "Tier 1",
         "Supermarket Type1",
         2187.153,
         "New",
         40462.3305
        ],
        [
         "FDX32",
         15.1,
         "Regular",
         0.1000135,
         "Fruits and Vegetables",
         145.4786,
         "OUT049",
         "1999",
         "M",
         "Tier 1",
         "Supermarket Type1",
         1589.2646,
         "New",
         23997.89546
        ],
        [
         "FDS46",
         17.6,
         "Regular",
         0.047257328,
         "Snack Foods",
         119.6782,
         "OUT046",
         "1997",
         "S",
         "Tier 1",
         "Supermarket Type1",
         2145.2076,
         "New",
         37755.65376000001
        ],
        [
         "FDF32",
         16.35,
         "Low Fat",
         0.0680243,
         "Fruits and Vegetables",
         196.4426,
         "OUT013",
         "1987",
         "L",
         "Tier 3",
         "Supermarket Type1",
         1977.426,
         "New",
         32330.915100000002
        ]
       ],
       "datasetInfos": [],
       "dbfsResultPath": null,
       "isJsonSchema": true,
       "metadata": {},
       "overflow": false,
       "plotOptions": {
        "customPlotOptions": {},
        "displayType": "table",
        "pivotAggregation": null,
        "pivotColumns": null,
        "xColumns": null,
        "yColumns": null
       },
       "removedWidgets": [],
       "schema": [
        {
         "metadata": "{}",
         "name": "Item_Identifier",
         "type": "\"string\""
        },
        {
         "metadata": "{}",
         "name": "Item_Weight",
         "type": "\"double\""
        },
        {
         "metadata": "{}",
         "name": "Item_Fat_Content",
         "type": "\"string\""
        },
        {
         "metadata": "{}",
         "name": "Item_Visibility",
         "type": "\"double\""
        },
        {
         "metadata": "{}",
         "name": "Item_Type",
         "type": "\"string\""
        },
        {
         "metadata": "{}",
         "name": "Item_MRP",
         "type": "\"double\""
        },
        {
         "metadata": "{}",
         "name": "Outlet_Identifier",
         "type": "\"string\""
        },
        {
         "metadata": "{}",
         "name": "Outlet_Establishment_Year",
         "type": "\"string\""
        },
        {
         "metadata": "{}",
         "name": "Outlet_Size",
         "type": "\"string\""
        },
        {
         "metadata": "{}",
         "name": "Outlet_Location_Type",
         "type": "\"string\""
        },
        {
         "metadata": "{}",
         "name": "Outlet_Type",
         "type": "\"string\""
        },
        {
         "metadata": "{}",
         "name": "Item_Outlet_Sales",
         "type": "\"double\""
        },
        {
         "metadata": "{}",
         "name": "Flag",
         "type": "\"string\""
        },
        {
         "metadata": "{}",
         "name": "multiply",
         "type": "\"double\""
        }
       ],
       "type": "table"
      }
     },
     "output_type": "display_data"
    }
   ],
   "source": [
    "df.withColumn('Outlet_Size', regexp_replace('Outlet_Size', 'Small', 'S')) \\\n",
    "    .withColumn('Outlet_Size', regexp_replace('Outlet_Size', 'Medium', 'M')) \\\n",
    "    .withColumn('Outlet_Size', regexp_replace('Outlet_Size', 'High', 'L')).limit (15).display()"
   ]
  },
  {
   "cell_type": "markdown",
   "metadata": {
    "application/vnd.databricks.v1+cell": {
     "cellMetadata": {},
     "inputWidgets": {},
     "nuid": "1e812b0e-7acd-4242-9f3b-a31cba0c5e3e",
     "showTitle": false,
     "tableResultSettingsMap": {},
     "title": ""
    }
   },
   "source": [
    "Modificar tipo de columna 'Outlet_Establishment_Year' de numerico a texto"
   ]
  },
  {
   "cell_type": "code",
   "execution_count": 0,
   "metadata": {
    "application/vnd.databricks.v1+cell": {
     "cellMetadata": {
      "byteLimit": 2048000,
      "rowLimit": 10000
     },
     "collapsed": true,
     "inputWidgets": {},
     "nuid": "4a36dfd1-9e00-42e5-b2b7-9afdd8ff0751",
     "showTitle": false,
     "tableResultSettingsMap": {},
     "title": ""
    }
   },
   "outputs": [],
   "source": [
    "df = df.withColumn('Outlet_Establishment_Year', col('Outlet_Establishment_Year').cast(StringType()))"
   ]
  },
  {
   "cell_type": "code",
   "execution_count": 0,
   "metadata": {
    "application/vnd.databricks.v1+cell": {
     "cellMetadata": {
      "byteLimit": 2048000,
      "rowLimit": 10000
     },
     "inputWidgets": {},
     "nuid": "5051f809-2f54-4ede-8ad0-65bf3f5b123c",
     "showTitle": false,
     "tableResultSettingsMap": {},
     "title": ""
    }
   },
   "outputs": [
    {
     "output_type": "display_data",
     "data": {
      "text/html": [
       "<style scoped>\n",
       "  .table-result-container {\n",
       "    max-height: 300px;\n",
       "    overflow: auto;\n",
       "  }\n",
       "  table, th, td {\n",
       "    border: 1px solid black;\n",
       "    border-collapse: collapse;\n",
       "  }\n",
       "  th, td {\n",
       "    padding: 5px;\n",
       "  }\n",
       "  th {\n",
       "    text-align: left;\n",
       "  }\n",
       "</style><div class='table-result-container'><table class='table-result'><thead style='background-color: white'><tr><th>Item_Identifier</th><th>Item_Weight</th><th>Item_Fat_Content</th><th>Item_Visibility</th><th>Item_Type</th><th>Item_MRP</th><th>Outlet_Identifier</th><th>Outlet_Establishment_Year</th><th>Outlet_Size</th><th>Outlet_Location_Type</th><th>Outlet_Type</th><th>Item_Outlet_Sales</th></tr></thead><tbody><tr><td>FDA15</td><td>9.3</td><td>Low Fat</td><td>0.016047301</td><td>Dairy</td><td>249.8092</td><td>OUT049</td><td>1999</td><td>Medium</td><td>Tier 1</td><td>Supermarket Type1</td><td>3735.138</td></tr><tr><td>DRC01</td><td>5.92</td><td>Regular</td><td>0.019278216</td><td>Soft Drinks</td><td>48.2692</td><td>OUT018</td><td>2009</td><td>Medium</td><td>Tier 3</td><td>Supermarket Type2</td><td>443.4228</td></tr><tr><td>FDN15</td><td>17.5</td><td>Low Fat</td><td>0.016760075</td><td>Meat</td><td>141.618</td><td>OUT049</td><td>1999</td><td>Medium</td><td>Tier 1</td><td>Supermarket Type1</td><td>2097.27</td></tr><tr><td>FDX07</td><td>19.2</td><td>Regular</td><td>0.0</td><td>Fruits and Vegetables</td><td>182.095</td><td>OUT010</td><td>1998</td><td>null</td><td>Tier 3</td><td>Grocery Store</td><td>732.38</td></tr><tr><td>NCD19</td><td>8.93</td><td>Low Fat</td><td>0.0</td><td>Household</td><td>53.8614</td><td>OUT013</td><td>1987</td><td>High</td><td>Tier 3</td><td>Supermarket Type1</td><td>994.7052</td></tr><tr><td>FDP36</td><td>10.395</td><td>Regular</td><td>0.0</td><td>Baking Goods</td><td>51.4008</td><td>OUT018</td><td>2009</td><td>Medium</td><td>Tier 3</td><td>Supermarket Type2</td><td>556.6088</td></tr><tr><td>FDO10</td><td>13.65</td><td>Regular</td><td>0.012741089</td><td>Snack Foods</td><td>57.6588</td><td>OUT013</td><td>1987</td><td>High</td><td>Tier 3</td><td>Supermarket Type1</td><td>343.5528</td></tr><tr><td>FDP10</td><td>null</td><td>Low Fat</td><td>0.127469857</td><td>Snack Foods</td><td>107.7622</td><td>OUT027</td><td>1985</td><td>Medium</td><td>Tier 3</td><td>Supermarket Type3</td><td>4022.7636</td></tr><tr><td>FDH17</td><td>16.2</td><td>Regular</td><td>0.016687114</td><td>Frozen Foods</td><td>96.9726</td><td>OUT045</td><td>2002</td><td>null</td><td>Tier 2</td><td>Supermarket Type1</td><td>1076.5986</td></tr><tr><td>FDU28</td><td>19.2</td><td>Regular</td><td>0.09444959</td><td>Frozen Foods</td><td>187.8214</td><td>OUT017</td><td>2007</td><td>null</td><td>Tier 2</td><td>Supermarket Type1</td><td>4710.535</td></tr><tr><td>FDY07</td><td>11.8</td><td>Low Fat</td><td>0.0</td><td>Fruits and Vegetables</td><td>45.5402</td><td>OUT049</td><td>1999</td><td>Medium</td><td>Tier 1</td><td>Supermarket Type1</td><td>1516.0266</td></tr><tr><td>FDA03</td><td>18.5</td><td>Regular</td><td>0.045463773</td><td>Dairy</td><td>144.1102</td><td>OUT046</td><td>1997</td><td>Small</td><td>Tier 1</td><td>Supermarket Type1</td><td>2187.153</td></tr><tr><td>FDX32</td><td>15.1</td><td>Regular</td><td>0.1000135</td><td>Fruits and Vegetables</td><td>145.4786</td><td>OUT049</td><td>1999</td><td>Medium</td><td>Tier 1</td><td>Supermarket Type1</td><td>1589.2646</td></tr><tr><td>FDS46</td><td>17.6</td><td>Regular</td><td>0.047257328</td><td>Snack Foods</td><td>119.6782</td><td>OUT046</td><td>1997</td><td>Small</td><td>Tier 1</td><td>Supermarket Type1</td><td>2145.2076</td></tr><tr><td>FDF32</td><td>16.35</td><td>Low Fat</td><td>0.0680243</td><td>Fruits and Vegetables</td><td>196.4426</td><td>OUT013</td><td>1987</td><td>High</td><td>Tier 3</td><td>Supermarket Type1</td><td>1977.426</td></tr></tbody></table></div>"
      ]
     },
     "metadata": {
      "application/vnd.databricks.v1+output": {
       "addedWidgets": {},
       "aggData": [],
       "aggError": "",
       "aggOverflow": false,
       "aggSchema": [],
       "aggSeriesLimitReached": false,
       "aggType": "",
       "arguments": {},
       "columnCustomDisplayInfos": {},
       "data": [
        [
         "FDA15",
         9.3,
         "Low Fat",
         0.016047301,
         "Dairy",
         249.8092,
         "OUT049",
         "1999",
         "Medium",
         "Tier 1",
         "Supermarket Type1",
         3735.138
        ],
        [
         "DRC01",
         5.92,
         "Regular",
         0.019278216,
         "Soft Drinks",
         48.2692,
         "OUT018",
         "2009",
         "Medium",
         "Tier 3",
         "Supermarket Type2",
         443.4228
        ],
        [
         "FDN15",
         17.5,
         "Low Fat",
         0.016760075,
         "Meat",
         141.618,
         "OUT049",
         "1999",
         "Medium",
         "Tier 1",
         "Supermarket Type1",
         2097.27
        ],
        [
         "FDX07",
         19.2,
         "Regular",
         0.0,
         "Fruits and Vegetables",
         182.095,
         "OUT010",
         "1998",
         null,
         "Tier 3",
         "Grocery Store",
         732.38
        ],
        [
         "NCD19",
         8.93,
         "Low Fat",
         0.0,
         "Household",
         53.8614,
         "OUT013",
         "1987",
         "High",
         "Tier 3",
         "Supermarket Type1",
         994.7052
        ],
        [
         "FDP36",
         10.395,
         "Regular",
         0.0,
         "Baking Goods",
         51.4008,
         "OUT018",
         "2009",
         "Medium",
         "Tier 3",
         "Supermarket Type2",
         556.6088
        ],
        [
         "FDO10",
         13.65,
         "Regular",
         0.012741089,
         "Snack Foods",
         57.6588,
         "OUT013",
         "1987",
         "High",
         "Tier 3",
         "Supermarket Type1",
         343.5528
        ],
        [
         "FDP10",
         null,
         "Low Fat",
         0.127469857,
         "Snack Foods",
         107.7622,
         "OUT027",
         "1985",
         "Medium",
         "Tier 3",
         "Supermarket Type3",
         4022.7636
        ],
        [
         "FDH17",
         16.2,
         "Regular",
         0.016687114,
         "Frozen Foods",
         96.9726,
         "OUT045",
         "2002",
         null,
         "Tier 2",
         "Supermarket Type1",
         1076.5986
        ],
        [
         "FDU28",
         19.2,
         "Regular",
         0.09444959,
         "Frozen Foods",
         187.8214,
         "OUT017",
         "2007",
         null,
         "Tier 2",
         "Supermarket Type1",
         4710.535
        ],
        [
         "FDY07",
         11.8,
         "Low Fat",
         0.0,
         "Fruits and Vegetables",
         45.5402,
         "OUT049",
         "1999",
         "Medium",
         "Tier 1",
         "Supermarket Type1",
         1516.0266
        ],
        [
         "FDA03",
         18.5,
         "Regular",
         0.045463773,
         "Dairy",
         144.1102,
         "OUT046",
         "1997",
         "Small",
         "Tier 1",
         "Supermarket Type1",
         2187.153
        ],
        [
         "FDX32",
         15.1,
         "Regular",
         0.1000135,
         "Fruits and Vegetables",
         145.4786,
         "OUT049",
         "1999",
         "Medium",
         "Tier 1",
         "Supermarket Type1",
         1589.2646
        ],
        [
         "FDS46",
         17.6,
         "Regular",
         0.047257328,
         "Snack Foods",
         119.6782,
         "OUT046",
         "1997",
         "Small",
         "Tier 1",
         "Supermarket Type1",
         2145.2076
        ],
        [
         "FDF32",
         16.35,
         "Low Fat",
         0.0680243,
         "Fruits and Vegetables",
         196.4426,
         "OUT013",
         "1987",
         "High",
         "Tier 3",
         "Supermarket Type1",
         1977.426
        ]
       ],
       "datasetInfos": [],
       "dbfsResultPath": null,
       "isJsonSchema": true,
       "metadata": {},
       "overflow": false,
       "plotOptions": {
        "customPlotOptions": {},
        "displayType": "table",
        "pivotAggregation": null,
        "pivotColumns": null,
        "xColumns": null,
        "yColumns": null
       },
       "removedWidgets": [],
       "schema": [
        {
         "metadata": "{}",
         "name": "Item_Identifier",
         "type": "\"string\""
        },
        {
         "metadata": "{}",
         "name": "Item_Weight",
         "type": "\"double\""
        },
        {
         "metadata": "{}",
         "name": "Item_Fat_Content",
         "type": "\"string\""
        },
        {
         "metadata": "{}",
         "name": "Item_Visibility",
         "type": "\"double\""
        },
        {
         "metadata": "{}",
         "name": "Item_Type",
         "type": "\"string\""
        },
        {
         "metadata": "{}",
         "name": "Item_MRP",
         "type": "\"double\""
        },
        {
         "metadata": "{}",
         "name": "Outlet_Identifier",
         "type": "\"string\""
        },
        {
         "metadata": "{}",
         "name": "Outlet_Establishment_Year",
         "type": "\"string\""
        },
        {
         "metadata": "{}",
         "name": "Outlet_Size",
         "type": "\"string\""
        },
        {
         "metadata": "{}",
         "name": "Outlet_Location_Type",
         "type": "\"string\""
        },
        {
         "metadata": "{}",
         "name": "Outlet_Type",
         "type": "\"string\""
        },
        {
         "metadata": "{}",
         "name": "Item_Outlet_Sales",
         "type": "\"double\""
        }
       ],
       "type": "table"
      }
     },
     "output_type": "display_data"
    }
   ],
   "source": [
    "df.limit(15).display()"
   ]
  },
  {
   "cell_type": "markdown",
   "metadata": {
    "application/vnd.databricks.v1+cell": {
     "cellMetadata": {},
     "inputWidgets": {},
     "nuid": "942c0769-93db-46ff-855b-ff7f823b768c",
     "showTitle": false,
     "tableResultSettingsMap": {},
     "title": ""
    }
   },
   "source": [
    "Ordernar productos por peso y visibilidad [DESC](url) (Sort/GroupBy)"
   ]
  },
  {
   "cell_type": "code",
   "execution_count": 0,
   "metadata": {
    "application/vnd.databricks.v1+cell": {
     "cellMetadata": {
      "byteLimit": 2048000,
      "rowLimit": 10000
     },
     "inputWidgets": {},
     "nuid": "cdf52364-df6f-4c7d-bd6d-c3408f08ff44",
     "showTitle": false,
     "tableResultSettingsMap": {},
     "title": ""
    }
   },
   "outputs": [
    {
     "output_type": "display_data",
     "data": {
      "text/html": [
       "<style scoped>\n",
       "  .table-result-container {\n",
       "    max-height: 300px;\n",
       "    overflow: auto;\n",
       "  }\n",
       "  table, th, td {\n",
       "    border: 1px solid black;\n",
       "    border-collapse: collapse;\n",
       "  }\n",
       "  th, td {\n",
       "    padding: 5px;\n",
       "  }\n",
       "  th {\n",
       "    text-align: left;\n",
       "  }\n",
       "</style><div class='table-result-container'><table class='table-result'><thead style='background-color: white'><tr><th>Item_Identifier</th><th>Item_Weight</th><th>Item_Fat_Content</th><th>Item_Visibility</th><th>Item_Type</th><th>Item_MRP</th><th>Outlet_Identifier</th><th>Outlet_Establishment_Year</th><th>Outlet_Size</th><th>Outlet_Location_Type</th><th>Outlet_Type</th><th>Item_Outlet_Sales</th></tr></thead><tbody><tr><td>FDR07</td><td>21.35</td><td>Low Fat</td><td>0.130127365</td><td>Fruits and Vegetables</td><td>96.2094</td><td>OUT010</td><td>1998</td><td>null</td><td>Tier 3</td><td>Grocery Store</td><td>190.4188</td></tr><tr><td>FDC02</td><td>21.35</td><td>Low Fat</td><td>0.115194717</td><td>Canned</td><td>258.3278</td><td>OUT010</td><td>1998</td><td>null</td><td>Tier 3</td><td>Grocery Store</td><td>520.6556</td></tr><tr><td>FDR07</td><td>21.35</td><td>Low Fat</td><td>0.078060605</td><td>Fruits and Vegetables</td><td>96.0094</td><td>OUT018</td><td>2009</td><td>Medium</td><td>Tier 3</td><td>Supermarket Type2</td><td>380.8376</td></tr><tr><td>FDC02</td><td>21.35</td><td>Low Fat</td><td>0.069102831</td><td>Canned</td><td>259.9278</td><td>OUT018</td><td>2009</td><td>Medium</td><td>Tier 3</td><td>Supermarket Type2</td><td>6768.5228</td></tr><tr><td>FDC02</td><td>21.35</td><td>Low Fat</td><td>0.068822477</td><td>Canned</td><td>258.3278</td><td>OUT046</td><td>1997</td><td>Small</td><td>Tier 1</td><td>Supermarket Type1</td><td>7028.8506</td></tr><tr><td>FDC02</td><td>21.35</td><td>Low Fat</td><td>0.068809463</td><td>Canned</td><td>258.5278</td><td>OUT035</td><td>2004</td><td>Small</td><td>Tier 2</td><td>Supermarket Type1</td><td>5206.556</td></tr><tr><td>FDC02</td><td>21.35</td><td>Low Fat</td><td>0.068765205</td><td>Canned</td><td>260.4278</td><td>OUT013</td><td>1987</td><td>High</td><td>Tier 3</td><td>Supermarket Type1</td><td>3644.5892</td></tr><tr><td>FDA45</td><td>21.25</td><td>Low Fat</td><td>0.156012631</td><td>Snack Foods</td><td>177.337</td><td>OUT018</td><td>2009</td><td>Medium</td><td>Tier 3</td><td>Supermarket Type2</td><td>2822.992</td></tr><tr><td>FDA45</td><td>21.25</td><td>Low Fat</td><td>0.155694794</td><td>Snack Foods</td><td>177.637</td><td>OUT045</td><td>2002</td><td>null</td><td>Tier 2</td><td>Supermarket Type1</td><td>2999.429</td></tr><tr><td>FDA45</td><td>21.25</td><td>Low Fat</td><td>0.155350299</td><td>Snack Foods</td><td>178.237</td><td>OUT035</td><td>2004</td><td>Small</td><td>Tier 2</td><td>Supermarket Type1</td><td>529.311</td></tr><tr><td>FDA45</td><td>21.25</td><td>Low Fat</td><td>0.155250377</td><td>Snack Foods</td><td>175.737</td><td>OUT013</td><td>1987</td><td>High</td><td>Tier 3</td><td>Supermarket Type1</td><td>2117.244</td></tr><tr><td>NCX17</td><td>21.25</td><td>Low Fat</td><td>0.114246019</td><td>Health and Hygiene</td><td>231.23</td><td>OUT017</td><td>2007</td><td>null</td><td>Tier 2</td><td>Supermarket Type1</td><td>3029.39</td></tr><tr><td>NCX17</td><td>21.25</td><td>Low Fat</td><td>0.114066204</td><td>Health and Hygiene</td><td>233.03</td><td>OUT018</td><td>2009</td><td>Medium</td><td>Tier 3</td><td>Supermarket Type2</td><td>5592.72</td></tr><tr><td>NCX17</td><td>21.25</td><td>Low Fat</td><td>0.113833823</td><td>Health and Hygiene</td><td>232.83</td><td>OUT045</td><td>2002</td><td>null</td><td>Tier 2</td><td>Supermarket Type1</td><td>1398.18</td></tr><tr><td>NCO42</td><td>21.25</td><td>Low Fat</td><td>0.024795057</td><td>Household</td><td>147.4102</td><td>OUT017</td><td>2007</td><td>null</td><td>Tier 2</td><td>Supermarket Type1</td><td>3791.0652</td></tr></tbody></table></div>"
      ]
     },
     "metadata": {
      "application/vnd.databricks.v1+output": {
       "addedWidgets": {},
       "aggData": [],
       "aggError": "",
       "aggOverflow": false,
       "aggSchema": [],
       "aggSeriesLimitReached": false,
       "aggType": "",
       "arguments": {},
       "columnCustomDisplayInfos": {},
       "data": [
        [
         "FDR07",
         21.35,
         "Low Fat",
         0.130127365,
         "Fruits and Vegetables",
         96.2094,
         "OUT010",
         "1998",
         null,
         "Tier 3",
         "Grocery Store",
         190.4188
        ],
        [
         "FDC02",
         21.35,
         "Low Fat",
         0.115194717,
         "Canned",
         258.3278,
         "OUT010",
         "1998",
         null,
         "Tier 3",
         "Grocery Store",
         520.6556
        ],
        [
         "FDR07",
         21.35,
         "Low Fat",
         0.078060605,
         "Fruits and Vegetables",
         96.0094,
         "OUT018",
         "2009",
         "Medium",
         "Tier 3",
         "Supermarket Type2",
         380.8376
        ],
        [
         "FDC02",
         21.35,
         "Low Fat",
         0.069102831,
         "Canned",
         259.9278,
         "OUT018",
         "2009",
         "Medium",
         "Tier 3",
         "Supermarket Type2",
         6768.5228
        ],
        [
         "FDC02",
         21.35,
         "Low Fat",
         0.068822477,
         "Canned",
         258.3278,
         "OUT046",
         "1997",
         "Small",
         "Tier 1",
         "Supermarket Type1",
         7028.8506
        ],
        [
         "FDC02",
         21.35,
         "Low Fat",
         0.068809463,
         "Canned",
         258.5278,
         "OUT035",
         "2004",
         "Small",
         "Tier 2",
         "Supermarket Type1",
         5206.556
        ],
        [
         "FDC02",
         21.35,
         "Low Fat",
         0.068765205,
         "Canned",
         260.4278,
         "OUT013",
         "1987",
         "High",
         "Tier 3",
         "Supermarket Type1",
         3644.5892
        ],
        [
         "FDA45",
         21.25,
         "Low Fat",
         0.156012631,
         "Snack Foods",
         177.337,
         "OUT018",
         "2009",
         "Medium",
         "Tier 3",
         "Supermarket Type2",
         2822.992
        ],
        [
         "FDA45",
         21.25,
         "Low Fat",
         0.155694794,
         "Snack Foods",
         177.637,
         "OUT045",
         "2002",
         null,
         "Tier 2",
         "Supermarket Type1",
         2999.429
        ],
        [
         "FDA45",
         21.25,
         "Low Fat",
         0.155350299,
         "Snack Foods",
         178.237,
         "OUT035",
         "2004",
         "Small",
         "Tier 2",
         "Supermarket Type1",
         529.311
        ],
        [
         "FDA45",
         21.25,
         "Low Fat",
         0.155250377,
         "Snack Foods",
         175.737,
         "OUT013",
         "1987",
         "High",
         "Tier 3",
         "Supermarket Type1",
         2117.244
        ],
        [
         "NCX17",
         21.25,
         "Low Fat",
         0.114246019,
         "Health and Hygiene",
         231.23,
         "OUT017",
         "2007",
         null,
         "Tier 2",
         "Supermarket Type1",
         3029.39
        ],
        [
         "NCX17",
         21.25,
         "Low Fat",
         0.114066204,
         "Health and Hygiene",
         233.03,
         "OUT018",
         "2009",
         "Medium",
         "Tier 3",
         "Supermarket Type2",
         5592.72
        ],
        [
         "NCX17",
         21.25,
         "Low Fat",
         0.113833823,
         "Health and Hygiene",
         232.83,
         "OUT045",
         "2002",
         null,
         "Tier 2",
         "Supermarket Type1",
         1398.18
        ],
        [
         "NCO42",
         21.25,
         "Low Fat",
         0.024795057,
         "Household",
         147.4102,
         "OUT017",
         "2007",
         null,
         "Tier 2",
         "Supermarket Type1",
         3791.0652
        ]
       ],
       "datasetInfos": [],
       "dbfsResultPath": null,
       "isJsonSchema": true,
       "metadata": {},
       "overflow": false,
       "plotOptions": {
        "customPlotOptions": {},
        "displayType": "table",
        "pivotAggregation": null,
        "pivotColumns": null,
        "xColumns": null,
        "yColumns": null
       },
       "removedWidgets": [],
       "schema": [
        {
         "metadata": "{}",
         "name": "Item_Identifier",
         "type": "\"string\""
        },
        {
         "metadata": "{}",
         "name": "Item_Weight",
         "type": "\"double\""
        },
        {
         "metadata": "{}",
         "name": "Item_Fat_Content",
         "type": "\"string\""
        },
        {
         "metadata": "{}",
         "name": "Item_Visibility",
         "type": "\"double\""
        },
        {
         "metadata": "{}",
         "name": "Item_Type",
         "type": "\"string\""
        },
        {
         "metadata": "{}",
         "name": "Item_MRP",
         "type": "\"double\""
        },
        {
         "metadata": "{}",
         "name": "Outlet_Identifier",
         "type": "\"string\""
        },
        {
         "metadata": "{}",
         "name": "Outlet_Establishment_Year",
         "type": "\"string\""
        },
        {
         "metadata": "{}",
         "name": "Outlet_Size",
         "type": "\"string\""
        },
        {
         "metadata": "{}",
         "name": "Outlet_Location_Type",
         "type": "\"string\""
        },
        {
         "metadata": "{}",
         "name": "Outlet_Type",
         "type": "\"string\""
        },
        {
         "metadata": "{}",
         "name": "Item_Outlet_Sales",
         "type": "\"double\""
        }
       ],
       "type": "table"
      }
     },
     "output_type": "display_data"
    }
   ],
   "source": [
    "df.sort(['Item_Weight','Item_Visibility'],ascending = [0,0]).limit(15).display()"
   ]
  },
  {
   "cell_type": "markdown",
   "metadata": {
    "application/vnd.databricks.v1+cell": {
     "cellMetadata": {},
     "inputWidgets": {},
     "nuid": "726c44f2-c378-4830-8f8b-acd0042905b0",
     "showTitle": false,
     "tableResultSettingsMap": {},
     "title": ""
    }
   },
   "source": [
    "Eliminar duplicados"
   ]
  },
  {
   "cell_type": "code",
   "execution_count": 0,
   "metadata": {
    "application/vnd.databricks.v1+cell": {
     "cellMetadata": {
      "byteLimit": 2048000,
      "rowLimit": 10000
     },
     "collapsed": true,
     "inputWidgets": {},
     "nuid": "23687110-6383-40b0-9462-9f3e26526eb5",
     "showTitle": false,
     "tableResultSettingsMap": {},
     "title": ""
    }
   },
   "outputs": [
    {
     "output_type": "display_data",
     "data": {
      "text/html": [
       "<style scoped>\n",
       "  .table-result-container {\n",
       "    max-height: 300px;\n",
       "    overflow: auto;\n",
       "  }\n",
       "  table, th, td {\n",
       "    border: 1px solid black;\n",
       "    border-collapse: collapse;\n",
       "  }\n",
       "  th, td {\n",
       "    padding: 5px;\n",
       "  }\n",
       "  th {\n",
       "    text-align: left;\n",
       "  }\n",
       "</style><div class='table-result-container'><table class='table-result'><thead style='background-color: white'><tr><th>Item_Identifier</th><th>Item_Weight</th><th>Item_Fat_Content</th><th>Item_Visibility</th><th>Item_Type</th><th>Item_MRP</th><th>Outlet_Identifier</th><th>Outlet_Establishment_Year</th><th>Outlet_Size</th><th>Outlet_Location_Type</th><th>Outlet_Type</th><th>Item_Outlet_Sales</th><th>Flag</th><th>multiply</th></tr></thead><tbody><tr><td>FDA15</td><td>9.3</td><td>Low Fat</td><td>0.016047301</td><td>Dairy</td><td>249.8092</td><td>OUT049</td><td>1999</td><td>Medium</td><td>Tier 1</td><td>Supermarket Type1</td><td>3735.138</td><td>New</td><td>34736.7834</td></tr><tr><td>FDN15</td><td>17.5</td><td>Low Fat</td><td>0.016760075</td><td>Meat</td><td>141.618</td><td>OUT049</td><td>1999</td><td>Medium</td><td>Tier 1</td><td>Supermarket Type1</td><td>2097.27</td><td>New</td><td>36702.225</td></tr><tr><td>DRC01</td><td>5.92</td><td>Regular</td><td>0.019278216</td><td>Soft Drinks</td><td>48.2692</td><td>OUT018</td><td>2009</td><td>Medium</td><td>Tier 3</td><td>Supermarket Type2</td><td>443.4228</td><td>New</td><td>2625.062976</td></tr><tr><td>FDH17</td><td>16.2</td><td>Regular</td><td>0.016687114</td><td>Frozen Foods</td><td>96.9726</td><td>OUT045</td><td>2002</td><td>null</td><td>Tier 2</td><td>Supermarket Type1</td><td>1076.5986</td><td>New</td><td>17440.89732</td></tr><tr><td>FDS46</td><td>17.6</td><td>Regular</td><td>0.047257328</td><td>Snack Foods</td><td>119.6782</td><td>OUT046</td><td>1997</td><td>Small</td><td>Tier 1</td><td>Supermarket Type1</td><td>2145.2076</td><td>New</td><td>37755.65376000001</td></tr><tr><td>FDA03</td><td>18.5</td><td>Regular</td><td>0.045463773</td><td>Dairy</td><td>144.1102</td><td>OUT046</td><td>1997</td><td>Small</td><td>Tier 1</td><td>Supermarket Type1</td><td>2187.153</td><td>New</td><td>40462.3305</td></tr><tr><td>FDX32</td><td>15.1</td><td>Regular</td><td>0.1000135</td><td>Fruits and Vegetables</td><td>145.4786</td><td>OUT049</td><td>1999</td><td>Medium</td><td>Tier 1</td><td>Supermarket Type1</td><td>1589.2646</td><td>New</td><td>23997.89546</td></tr><tr><td>FDP36</td><td>10.395</td><td>Regular</td><td>0.0</td><td>Baking Goods</td><td>51.4008</td><td>OUT018</td><td>2009</td><td>Medium</td><td>Tier 3</td><td>Supermarket Type2</td><td>556.6088</td><td>New</td><td>5785.948476</td></tr><tr><td>FDU28</td><td>19.2</td><td>Regular</td><td>0.09444959</td><td>Frozen Foods</td><td>187.8214</td><td>OUT017</td><td>2007</td><td>null</td><td>Tier 2</td><td>Supermarket Type1</td><td>4710.535</td><td>New</td><td>90442.272</td></tr><tr><td>FDX07</td><td>19.2</td><td>Regular</td><td>0.0</td><td>Fruits and Vegetables</td><td>182.095</td><td>OUT010</td><td>1998</td><td>null</td><td>Tier 3</td><td>Grocery Store</td><td>732.38</td><td>New</td><td>14061.696</td></tr><tr><td>NCD19</td><td>8.93</td><td>Low Fat</td><td>0.0</td><td>Household</td><td>53.8614</td><td>OUT013</td><td>1987</td><td>High</td><td>Tier 3</td><td>Supermarket Type1</td><td>994.7052</td><td>New</td><td>8882.717435999999</td></tr><tr><td>FDO10</td><td>13.65</td><td>Regular</td><td>0.012741089</td><td>Snack Foods</td><td>57.6588</td><td>OUT013</td><td>1987</td><td>High</td><td>Tier 3</td><td>Supermarket Type1</td><td>343.5528</td><td>New</td><td>4689.49572</td></tr><tr><td>FDF32</td><td>16.35</td><td>Low Fat</td><td>0.0680243</td><td>Fruits and Vegetables</td><td>196.4426</td><td>OUT013</td><td>1987</td><td>High</td><td>Tier 3</td><td>Supermarket Type1</td><td>1977.426</td><td>New</td><td>32330.915100000002</td></tr><tr><td>FDY07</td><td>11.8</td><td>Low Fat</td><td>0.0</td><td>Fruits and Vegetables</td><td>45.5402</td><td>OUT049</td><td>1999</td><td>Medium</td><td>Tier 1</td><td>Supermarket Type1</td><td>1516.0266</td><td>New</td><td>17889.11388</td></tr><tr><td>FDP10</td><td>null</td><td>Low Fat</td><td>0.127469857</td><td>Snack Foods</td><td>107.7622</td><td>OUT027</td><td>1985</td><td>Medium</td><td>Tier 3</td><td>Supermarket Type3</td><td>4022.7636</td><td>New</td><td>null</td></tr></tbody></table></div>"
      ]
     },
     "metadata": {
      "application/vnd.databricks.v1+output": {
       "addedWidgets": {},
       "aggData": [],
       "aggError": "",
       "aggOverflow": false,
       "aggSchema": [],
       "aggSeriesLimitReached": false,
       "aggType": "",
       "arguments": {},
       "columnCustomDisplayInfos": {},
       "data": [
        [
         "FDA15",
         9.3,
         "Low Fat",
         0.016047301,
         "Dairy",
         249.8092,
         "OUT049",
         "1999",
         "Medium",
         "Tier 1",
         "Supermarket Type1",
         3735.138,
         "New",
         34736.7834
        ],
        [
         "FDN15",
         17.5,
         "Low Fat",
         0.016760075,
         "Meat",
         141.618,
         "OUT049",
         "1999",
         "Medium",
         "Tier 1",
         "Supermarket Type1",
         2097.27,
         "New",
         36702.225
        ],
        [
         "DRC01",
         5.92,
         "Regular",
         0.019278216,
         "Soft Drinks",
         48.2692,
         "OUT018",
         "2009",
         "Medium",
         "Tier 3",
         "Supermarket Type2",
         443.4228,
         "New",
         2625.062976
        ],
        [
         "FDH17",
         16.2,
         "Regular",
         0.016687114,
         "Frozen Foods",
         96.9726,
         "OUT045",
         "2002",
         null,
         "Tier 2",
         "Supermarket Type1",
         1076.5986,
         "New",
         17440.89732
        ],
        [
         "FDS46",
         17.6,
         "Regular",
         0.047257328,
         "Snack Foods",
         119.6782,
         "OUT046",
         "1997",
         "Small",
         "Tier 1",
         "Supermarket Type1",
         2145.2076,
         "New",
         37755.65376000001
        ],
        [
         "FDA03",
         18.5,
         "Regular",
         0.045463773,
         "Dairy",
         144.1102,
         "OUT046",
         "1997",
         "Small",
         "Tier 1",
         "Supermarket Type1",
         2187.153,
         "New",
         40462.3305
        ],
        [
         "FDX32",
         15.1,
         "Regular",
         0.1000135,
         "Fruits and Vegetables",
         145.4786,
         "OUT049",
         "1999",
         "Medium",
         "Tier 1",
         "Supermarket Type1",
         1589.2646,
         "New",
         23997.89546
        ],
        [
         "FDP36",
         10.395,
         "Regular",
         0.0,
         "Baking Goods",
         51.4008,
         "OUT018",
         "2009",
         "Medium",
         "Tier 3",
         "Supermarket Type2",
         556.6088,
         "New",
         5785.948476
        ],
        [
         "FDU28",
         19.2,
         "Regular",
         0.09444959,
         "Frozen Foods",
         187.8214,
         "OUT017",
         "2007",
         null,
         "Tier 2",
         "Supermarket Type1",
         4710.535,
         "New",
         90442.272
        ],
        [
         "FDX07",
         19.2,
         "Regular",
         0.0,
         "Fruits and Vegetables",
         182.095,
         "OUT010",
         "1998",
         null,
         "Tier 3",
         "Grocery Store",
         732.38,
         "New",
         14061.696
        ],
        [
         "NCD19",
         8.93,
         "Low Fat",
         0.0,
         "Household",
         53.8614,
         "OUT013",
         "1987",
         "High",
         "Tier 3",
         "Supermarket Type1",
         994.7052,
         "New",
         8882.717435999999
        ],
        [
         "FDO10",
         13.65,
         "Regular",
         0.012741089,
         "Snack Foods",
         57.6588,
         "OUT013",
         "1987",
         "High",
         "Tier 3",
         "Supermarket Type1",
         343.5528,
         "New",
         4689.49572
        ],
        [
         "FDF32",
         16.35,
         "Low Fat",
         0.0680243,
         "Fruits and Vegetables",
         196.4426,
         "OUT013",
         "1987",
         "High",
         "Tier 3",
         "Supermarket Type1",
         1977.426,
         "New",
         32330.915100000002
        ],
        [
         "FDY07",
         11.8,
         "Low Fat",
         0.0,
         "Fruits and Vegetables",
         45.5402,
         "OUT049",
         "1999",
         "Medium",
         "Tier 1",
         "Supermarket Type1",
         1516.0266,
         "New",
         17889.11388
        ],
        [
         "FDP10",
         null,
         "Low Fat",
         0.127469857,
         "Snack Foods",
         107.7622,
         "OUT027",
         "1985",
         "Medium",
         "Tier 3",
         "Supermarket Type3",
         4022.7636,
         "New",
         null
        ]
       ],
       "datasetInfos": [],
       "dbfsResultPath": null,
       "isJsonSchema": true,
       "metadata": {},
       "overflow": false,
       "plotOptions": {
        "customPlotOptions": {},
        "displayType": "table",
        "pivotAggregation": null,
        "pivotColumns": null,
        "xColumns": null,
        "yColumns": null
       },
       "removedWidgets": [],
       "schema": [
        {
         "metadata": "{}",
         "name": "Item_Identifier",
         "type": "\"string\""
        },
        {
         "metadata": "{}",
         "name": "Item_Weight",
         "type": "\"double\""
        },
        {
         "metadata": "{}",
         "name": "Item_Fat_Content",
         "type": "\"string\""
        },
        {
         "metadata": "{}",
         "name": "Item_Visibility",
         "type": "\"double\""
        },
        {
         "metadata": "{}",
         "name": "Item_Type",
         "type": "\"string\""
        },
        {
         "metadata": "{}",
         "name": "Item_MRP",
         "type": "\"double\""
        },
        {
         "metadata": "{}",
         "name": "Outlet_Identifier",
         "type": "\"string\""
        },
        {
         "metadata": "{}",
         "name": "Outlet_Establishment_Year",
         "type": "\"string\""
        },
        {
         "metadata": "{}",
         "name": "Outlet_Size",
         "type": "\"string\""
        },
        {
         "metadata": "{}",
         "name": "Outlet_Location_Type",
         "type": "\"string\""
        },
        {
         "metadata": "{}",
         "name": "Outlet_Type",
         "type": "\"string\""
        },
        {
         "metadata": "{}",
         "name": "Item_Outlet_Sales",
         "type": "\"double\""
        },
        {
         "metadata": "{}",
         "name": "Flag",
         "type": "\"string\""
        },
        {
         "metadata": "{}",
         "name": "multiply",
         "type": "\"double\""
        }
       ],
       "type": "table"
      }
     },
     "output_type": "display_data"
    }
   ],
   "source": [
    "df.dropDuplicates().limit(15).display()"
   ]
  },
  {
   "cell_type": "markdown",
   "metadata": {
    "application/vnd.databricks.v1+cell": {
     "cellMetadata": {},
     "inputWidgets": {},
     "nuid": "073677db-8c73-4b60-9da9-4477a35c3d5e",
     "showTitle": false,
     "tableResultSettingsMap": {},
     "title": ""
    }
   },
   "source": [
    "**Data 2**"
   ]
  },
  {
   "cell_type": "markdown",
   "metadata": {
    "application/vnd.databricks.v1+cell": {
     "cellMetadata": {},
     "inputWidgets": {},
     "nuid": "4d2175f2-df7d-4655-9160-b2c6ffce3e01",
     "showTitle": false,
     "tableResultSettingsMap": {},
     "title": ""
    }
   },
   "source": [
    "JSON Reading"
   ]
  },
  {
   "cell_type": "code",
   "execution_count": 0,
   "metadata": {
    "application/vnd.databricks.v1+cell": {
     "cellMetadata": {
      "byteLimit": 2048000,
      "rowLimit": 10000
     },
     "inputWidgets": {},
     "nuid": "69d32c44-a597-42c0-b369-400b74962bcc",
     "showTitle": false,
     "tableResultSettingsMap": {},
     "title": ""
    }
   },
   "outputs": [],
   "source": [
    "df_json = spark.read.format('json').option('inferSchema', True).option('multiLine', False).option('header', True).load('/FileStore/tables/drivers.json')"
   ]
  },
  {
   "cell_type": "code",
   "execution_count": 0,
   "metadata": {
    "application/vnd.databricks.v1+cell": {
     "cellMetadata": {
      "byteLimit": 2048000,
      "rowLimit": 10000
     },
     "inputWidgets": {},
     "nuid": "bd7938f5-d45b-45c5-b895-f4811dabc66a",
     "showTitle": false,
     "tableResultSettingsMap": {},
     "title": ""
    }
   },
   "outputs": [
    {
     "output_type": "display_data",
     "data": {
      "text/html": [
       "<style scoped>\n",
       "  .table-result-container {\n",
       "    max-height: 300px;\n",
       "    overflow: auto;\n",
       "  }\n",
       "  table, th, td {\n",
       "    border: 1px solid black;\n",
       "    border-collapse: collapse;\n",
       "  }\n",
       "  th, td {\n",
       "    padding: 5px;\n",
       "  }\n",
       "  th {\n",
       "    text-align: left;\n",
       "  }\n",
       "</style><div class='table-result-container'><table class='table-result'><thead style='background-color: white'><tr><th>code</th><th>dob</th><th>driverId</th><th>driverRef</th><th>name</th><th>nationality</th><th>number</th><th>url</th></tr></thead><tbody><tr><td>HAM</td><td>1985-01-07</td><td>1</td><td>hamilton</td><td>List(Lewis, Hamilton)</td><td>British</td><td>44</td><td>http://en.wikipedia.org/wiki/Lewis_Hamilton</td></tr><tr><td>HEI</td><td>1977-05-10</td><td>2</td><td>heidfeld</td><td>List(Nick, Heidfeld)</td><td>German</td><td>\\N</td><td>http://en.wikipedia.org/wiki/Nick_Heidfeld</td></tr><tr><td>ROS</td><td>1985-06-27</td><td>3</td><td>rosberg</td><td>List(Nico, Rosberg)</td><td>German</td><td>6</td><td>http://en.wikipedia.org/wiki/Nico_Rosberg</td></tr><tr><td>ALO</td><td>1981-07-29</td><td>4</td><td>alonso</td><td>List(Fernando, Alonso)</td><td>Spanish</td><td>14</td><td>http://en.wikipedia.org/wiki/Fernando_Alonso</td></tr><tr><td>KOV</td><td>1981-10-19</td><td>5</td><td>kovalainen</td><td>List(Heikki, Kovalainen)</td><td>Finnish</td><td>\\N</td><td>http://en.wikipedia.org/wiki/Heikki_Kovalainen</td></tr><tr><td>NAK</td><td>1985-01-11</td><td>6</td><td>nakajima</td><td>List(Kazuki, Nakajima)</td><td>Japanese</td><td>\\N</td><td>http://en.wikipedia.org/wiki/Kazuki_Nakajima</td></tr><tr><td>BOU</td><td>1979-02-28</td><td>7</td><td>bourdais</td><td>List(Sébastien, Bourdais)</td><td>French</td><td>\\N</td><td>http://en.wikipedia.org/wiki/S%C3%A9bastien_Bourdais</td></tr><tr><td>RAI</td><td>1979-10-17</td><td>8</td><td>raikkonen</td><td>List(Kimi, Räikkönen)</td><td>Finnish</td><td>7</td><td>http://en.wikipedia.org/wiki/Kimi_R%C3%A4ikk%C3%B6nen</td></tr><tr><td>KUB</td><td>1984-12-07</td><td>9</td><td>kubica</td><td>List(Robert, Kubica)</td><td>Polish</td><td>88</td><td>http://en.wikipedia.org/wiki/Robert_Kubica</td></tr><tr><td>GLO</td><td>1982-03-18</td><td>10</td><td>glock</td><td>List(Timo, Glock)</td><td>German</td><td>\\N</td><td>http://en.wikipedia.org/wiki/Timo_Glock</td></tr><tr><td>SAT</td><td>1977-01-28</td><td>11</td><td>sato</td><td>List(Takuma, Sato)</td><td>Japanese</td><td>\\N</td><td>http://en.wikipedia.org/wiki/Takuma_Sato</td></tr><tr><td>PIQ</td><td>1985-07-25</td><td>12</td><td>piquet_jr</td><td>List(Nelson, Piquet Jr.)</td><td>Brazilian</td><td>\\N</td><td>http://en.wikipedia.org/wiki/Nelson_Piquet,_Jr.</td></tr><tr><td>MAS</td><td>1981-04-25</td><td>13</td><td>massa</td><td>List(Felipe, Massa)</td><td>Brazilian</td><td>19</td><td>http://en.wikipedia.org/wiki/Felipe_Massa</td></tr><tr><td>COU</td><td>1971-03-27</td><td>14</td><td>coulthard</td><td>List(David, Coulthard)</td><td>British</td><td>\\N</td><td>http://en.wikipedia.org/wiki/David_Coulthard</td></tr><tr><td>TRU</td><td>1974-07-13</td><td>15</td><td>trulli</td><td>List(Jarno, Trulli)</td><td>Italian</td><td>\\N</td><td>http://en.wikipedia.org/wiki/Jarno_Trulli</td></tr></tbody></table></div>"
      ]
     },
     "metadata": {
      "application/vnd.databricks.v1+output": {
       "addedWidgets": {},
       "aggData": [],
       "aggError": "",
       "aggOverflow": false,
       "aggSchema": [],
       "aggSeriesLimitReached": false,
       "aggType": "",
       "arguments": {},
       "columnCustomDisplayInfos": {},
       "data": [
        [
         "HAM",
         "1985-01-07",
         1,
         "hamilton",
         [
          "Lewis",
          "Hamilton"
         ],
         "British",
         "44",
         "http://en.wikipedia.org/wiki/Lewis_Hamilton"
        ],
        [
         "HEI",
         "1977-05-10",
         2,
         "heidfeld",
         [
          "Nick",
          "Heidfeld"
         ],
         "German",
         "\\N",
         "http://en.wikipedia.org/wiki/Nick_Heidfeld"
        ],
        [
         "ROS",
         "1985-06-27",
         3,
         "rosberg",
         [
          "Nico",
          "Rosberg"
         ],
         "German",
         "6",
         "http://en.wikipedia.org/wiki/Nico_Rosberg"
        ],
        [
         "ALO",
         "1981-07-29",
         4,
         "alonso",
         [
          "Fernando",
          "Alonso"
         ],
         "Spanish",
         "14",
         "http://en.wikipedia.org/wiki/Fernando_Alonso"
        ],
        [
         "KOV",
         "1981-10-19",
         5,
         "kovalainen",
         [
          "Heikki",
          "Kovalainen"
         ],
         "Finnish",
         "\\N",
         "http://en.wikipedia.org/wiki/Heikki_Kovalainen"
        ],
        [
         "NAK",
         "1985-01-11",
         6,
         "nakajima",
         [
          "Kazuki",
          "Nakajima"
         ],
         "Japanese",
         "\\N",
         "http://en.wikipedia.org/wiki/Kazuki_Nakajima"
        ],
        [
         "BOU",
         "1979-02-28",
         7,
         "bourdais",
         [
          "Sébastien",
          "Bourdais"
         ],
         "French",
         "\\N",
         "http://en.wikipedia.org/wiki/S%C3%A9bastien_Bourdais"
        ],
        [
         "RAI",
         "1979-10-17",
         8,
         "raikkonen",
         [
          "Kimi",
          "Räikkönen"
         ],
         "Finnish",
         "7",
         "http://en.wikipedia.org/wiki/Kimi_R%C3%A4ikk%C3%B6nen"
        ],
        [
         "KUB",
         "1984-12-07",
         9,
         "kubica",
         [
          "Robert",
          "Kubica"
         ],
         "Polish",
         "88",
         "http://en.wikipedia.org/wiki/Robert_Kubica"
        ],
        [
         "GLO",
         "1982-03-18",
         10,
         "glock",
         [
          "Timo",
          "Glock"
         ],
         "German",
         "\\N",
         "http://en.wikipedia.org/wiki/Timo_Glock"
        ],
        [
         "SAT",
         "1977-01-28",
         11,
         "sato",
         [
          "Takuma",
          "Sato"
         ],
         "Japanese",
         "\\N",
         "http://en.wikipedia.org/wiki/Takuma_Sato"
        ],
        [
         "PIQ",
         "1985-07-25",
         12,
         "piquet_jr",
         [
          "Nelson",
          "Piquet Jr."
         ],
         "Brazilian",
         "\\N",
         "http://en.wikipedia.org/wiki/Nelson_Piquet,_Jr."
        ],
        [
         "MAS",
         "1981-04-25",
         13,
         "massa",
         [
          "Felipe",
          "Massa"
         ],
         "Brazilian",
         "19",
         "http://en.wikipedia.org/wiki/Felipe_Massa"
        ],
        [
         "COU",
         "1971-03-27",
         14,
         "coulthard",
         [
          "David",
          "Coulthard"
         ],
         "British",
         "\\N",
         "http://en.wikipedia.org/wiki/David_Coulthard"
        ],
        [
         "TRU",
         "1974-07-13",
         15,
         "trulli",
         [
          "Jarno",
          "Trulli"
         ],
         "Italian",
         "\\N",
         "http://en.wikipedia.org/wiki/Jarno_Trulli"
        ]
       ],
       "datasetInfos": [],
       "dbfsResultPath": null,
       "isJsonSchema": true,
       "metadata": {},
       "overflow": false,
       "plotOptions": {
        "customPlotOptions": {},
        "displayType": "table",
        "pivotAggregation": null,
        "pivotColumns": null,
        "xColumns": null,
        "yColumns": null
       },
       "removedWidgets": [],
       "schema": [
        {
         "metadata": "{}",
         "name": "code",
         "type": "\"string\""
        },
        {
         "metadata": "{}",
         "name": "dob",
         "type": "\"string\""
        },
        {
         "metadata": "{}",
         "name": "driverId",
         "type": "\"long\""
        },
        {
         "metadata": "{}",
         "name": "driverRef",
         "type": "\"string\""
        },
        {
         "metadata": "{}",
         "name": "name",
         "type": "{\"type\":\"struct\",\"fields\":[{\"name\":\"forename\",\"type\":\"string\",\"nullable\":true,\"metadata\":{}},{\"name\":\"surname\",\"type\":\"string\",\"nullable\":true,\"metadata\":{}}]}"
        },
        {
         "metadata": "{}",
         "name": "nationality",
         "type": "\"string\""
        },
        {
         "metadata": "{}",
         "name": "number",
         "type": "\"string\""
        },
        {
         "metadata": "{}",
         "name": "url",
         "type": "\"string\""
        }
       ],
       "type": "table"
      }
     },
     "output_type": "display_data"
    }
   ],
   "source": [
    "df_json.limit(15).display()"
   ]
  },
  {
   "cell_type": "markdown",
   "metadata": {
    "application/vnd.databricks.v1+cell": {
     "cellMetadata": {},
     "inputWidgets": {},
     "nuid": "0c3b1f74-c081-4b8e-9892-449cc47dccab",
     "showTitle": false,
     "tableResultSettingsMap": {},
     "title": ""
    }
   },
   "source": [
    "Nueva columna con nombre completo"
   ]
  },
  {
   "cell_type": "code",
   "execution_count": 0,
   "metadata": {
    "application/vnd.databricks.v1+cell": {
     "cellMetadata": {
      "byteLimit": 2048000,
      "rowLimit": 10000
     },
     "inputWidgets": {},
     "nuid": "77baa080-d3d0-4726-9fe2-af0aa9e35744",
     "showTitle": false,
     "tableResultSettingsMap": {},
     "title": ""
    }
   },
   "outputs": [
    {
     "output_type": "display_data",
     "data": {
      "text/html": [
       "<style scoped>\n",
       "  .table-result-container {\n",
       "    max-height: 300px;\n",
       "    overflow: auto;\n",
       "  }\n",
       "  table, th, td {\n",
       "    border: 1px solid black;\n",
       "    border-collapse: collapse;\n",
       "  }\n",
       "  th, td {\n",
       "    padding: 5px;\n",
       "  }\n",
       "  th {\n",
       "    text-align: left;\n",
       "  }\n",
       "</style><div class='table-result-container'><table class='table-result'><thead style='background-color: white'><tr><th>code</th><th>dob</th><th>driverId</th><th>driverRef</th><th>name</th><th>nationality</th><th>number</th><th>url</th><th>full_name</th></tr></thead><tbody><tr><td>HAM</td><td>1985-01-07</td><td>1</td><td>hamilton</td><td>List(Lewis, Hamilton)</td><td>British</td><td>44</td><td>http://en.wikipedia.org/wiki/Lewis_Hamilton</td><td>Lewis Hamilton</td></tr><tr><td>HEI</td><td>1977-05-10</td><td>2</td><td>heidfeld</td><td>List(Nick, Heidfeld)</td><td>German</td><td>\\N</td><td>http://en.wikipedia.org/wiki/Nick_Heidfeld</td><td>Nick Heidfeld</td></tr><tr><td>ROS</td><td>1985-06-27</td><td>3</td><td>rosberg</td><td>List(Nico, Rosberg)</td><td>German</td><td>6</td><td>http://en.wikipedia.org/wiki/Nico_Rosberg</td><td>Nico Rosberg</td></tr><tr><td>ALO</td><td>1981-07-29</td><td>4</td><td>alonso</td><td>List(Fernando, Alonso)</td><td>Spanish</td><td>14</td><td>http://en.wikipedia.org/wiki/Fernando_Alonso</td><td>Fernando Alonso</td></tr><tr><td>KOV</td><td>1981-10-19</td><td>5</td><td>kovalainen</td><td>List(Heikki, Kovalainen)</td><td>Finnish</td><td>\\N</td><td>http://en.wikipedia.org/wiki/Heikki_Kovalainen</td><td>Heikki Kovalainen</td></tr><tr><td>NAK</td><td>1985-01-11</td><td>6</td><td>nakajima</td><td>List(Kazuki, Nakajima)</td><td>Japanese</td><td>\\N</td><td>http://en.wikipedia.org/wiki/Kazuki_Nakajima</td><td>Kazuki Nakajima</td></tr><tr><td>BOU</td><td>1979-02-28</td><td>7</td><td>bourdais</td><td>List(Sébastien, Bourdais)</td><td>French</td><td>\\N</td><td>http://en.wikipedia.org/wiki/S%C3%A9bastien_Bourdais</td><td>Sébastien Bourdais</td></tr><tr><td>RAI</td><td>1979-10-17</td><td>8</td><td>raikkonen</td><td>List(Kimi, Räikkönen)</td><td>Finnish</td><td>7</td><td>http://en.wikipedia.org/wiki/Kimi_R%C3%A4ikk%C3%B6nen</td><td>Kimi Räikkönen</td></tr><tr><td>KUB</td><td>1984-12-07</td><td>9</td><td>kubica</td><td>List(Robert, Kubica)</td><td>Polish</td><td>88</td><td>http://en.wikipedia.org/wiki/Robert_Kubica</td><td>Robert Kubica</td></tr><tr><td>GLO</td><td>1982-03-18</td><td>10</td><td>glock</td><td>List(Timo, Glock)</td><td>German</td><td>\\N</td><td>http://en.wikipedia.org/wiki/Timo_Glock</td><td>Timo Glock</td></tr><tr><td>SAT</td><td>1977-01-28</td><td>11</td><td>sato</td><td>List(Takuma, Sato)</td><td>Japanese</td><td>\\N</td><td>http://en.wikipedia.org/wiki/Takuma_Sato</td><td>Takuma Sato</td></tr><tr><td>PIQ</td><td>1985-07-25</td><td>12</td><td>piquet_jr</td><td>List(Nelson, Piquet Jr.)</td><td>Brazilian</td><td>\\N</td><td>http://en.wikipedia.org/wiki/Nelson_Piquet,_Jr.</td><td>Nelson Piquet Jr.</td></tr><tr><td>MAS</td><td>1981-04-25</td><td>13</td><td>massa</td><td>List(Felipe, Massa)</td><td>Brazilian</td><td>19</td><td>http://en.wikipedia.org/wiki/Felipe_Massa</td><td>Felipe Massa</td></tr><tr><td>COU</td><td>1971-03-27</td><td>14</td><td>coulthard</td><td>List(David, Coulthard)</td><td>British</td><td>\\N</td><td>http://en.wikipedia.org/wiki/David_Coulthard</td><td>David Coulthard</td></tr><tr><td>TRU</td><td>1974-07-13</td><td>15</td><td>trulli</td><td>List(Jarno, Trulli)</td><td>Italian</td><td>\\N</td><td>http://en.wikipedia.org/wiki/Jarno_Trulli</td><td>Jarno Trulli</td></tr></tbody></table></div>"
      ]
     },
     "metadata": {
      "application/vnd.databricks.v1+output": {
       "addedWidgets": {},
       "aggData": [],
       "aggError": "",
       "aggOverflow": false,
       "aggSchema": [],
       "aggSeriesLimitReached": false,
       "aggType": "",
       "arguments": {},
       "columnCustomDisplayInfos": {},
       "data": [
        [
         "HAM",
         "1985-01-07",
         1,
         "hamilton",
         [
          "Lewis",
          "Hamilton"
         ],
         "British",
         "44",
         "http://en.wikipedia.org/wiki/Lewis_Hamilton",
         "Lewis Hamilton"
        ],
        [
         "HEI",
         "1977-05-10",
         2,
         "heidfeld",
         [
          "Nick",
          "Heidfeld"
         ],
         "German",
         "\\N",
         "http://en.wikipedia.org/wiki/Nick_Heidfeld",
         "Nick Heidfeld"
        ],
        [
         "ROS",
         "1985-06-27",
         3,
         "rosberg",
         [
          "Nico",
          "Rosberg"
         ],
         "German",
         "6",
         "http://en.wikipedia.org/wiki/Nico_Rosberg",
         "Nico Rosberg"
        ],
        [
         "ALO",
         "1981-07-29",
         4,
         "alonso",
         [
          "Fernando",
          "Alonso"
         ],
         "Spanish",
         "14",
         "http://en.wikipedia.org/wiki/Fernando_Alonso",
         "Fernando Alonso"
        ],
        [
         "KOV",
         "1981-10-19",
         5,
         "kovalainen",
         [
          "Heikki",
          "Kovalainen"
         ],
         "Finnish",
         "\\N",
         "http://en.wikipedia.org/wiki/Heikki_Kovalainen",
         "Heikki Kovalainen"
        ],
        [
         "NAK",
         "1985-01-11",
         6,
         "nakajima",
         [
          "Kazuki",
          "Nakajima"
         ],
         "Japanese",
         "\\N",
         "http://en.wikipedia.org/wiki/Kazuki_Nakajima",
         "Kazuki Nakajima"
        ],
        [
         "BOU",
         "1979-02-28",
         7,
         "bourdais",
         [
          "Sébastien",
          "Bourdais"
         ],
         "French",
         "\\N",
         "http://en.wikipedia.org/wiki/S%C3%A9bastien_Bourdais",
         "Sébastien Bourdais"
        ],
        [
         "RAI",
         "1979-10-17",
         8,
         "raikkonen",
         [
          "Kimi",
          "Räikkönen"
         ],
         "Finnish",
         "7",
         "http://en.wikipedia.org/wiki/Kimi_R%C3%A4ikk%C3%B6nen",
         "Kimi Räikkönen"
        ],
        [
         "KUB",
         "1984-12-07",
         9,
         "kubica",
         [
          "Robert",
          "Kubica"
         ],
         "Polish",
         "88",
         "http://en.wikipedia.org/wiki/Robert_Kubica",
         "Robert Kubica"
        ],
        [
         "GLO",
         "1982-03-18",
         10,
         "glock",
         [
          "Timo",
          "Glock"
         ],
         "German",
         "\\N",
         "http://en.wikipedia.org/wiki/Timo_Glock",
         "Timo Glock"
        ],
        [
         "SAT",
         "1977-01-28",
         11,
         "sato",
         [
          "Takuma",
          "Sato"
         ],
         "Japanese",
         "\\N",
         "http://en.wikipedia.org/wiki/Takuma_Sato",
         "Takuma Sato"
        ],
        [
         "PIQ",
         "1985-07-25",
         12,
         "piquet_jr",
         [
          "Nelson",
          "Piquet Jr."
         ],
         "Brazilian",
         "\\N",
         "http://en.wikipedia.org/wiki/Nelson_Piquet,_Jr.",
         "Nelson Piquet Jr."
        ],
        [
         "MAS",
         "1981-04-25",
         13,
         "massa",
         [
          "Felipe",
          "Massa"
         ],
         "Brazilian",
         "19",
         "http://en.wikipedia.org/wiki/Felipe_Massa",
         "Felipe Massa"
        ],
        [
         "COU",
         "1971-03-27",
         14,
         "coulthard",
         [
          "David",
          "Coulthard"
         ],
         "British",
         "\\N",
         "http://en.wikipedia.org/wiki/David_Coulthard",
         "David Coulthard"
        ],
        [
         "TRU",
         "1974-07-13",
         15,
         "trulli",
         [
          "Jarno",
          "Trulli"
         ],
         "Italian",
         "\\N",
         "http://en.wikipedia.org/wiki/Jarno_Trulli",
         "Jarno Trulli"
        ]
       ],
       "datasetInfos": [],
       "dbfsResultPath": null,
       "isJsonSchema": true,
       "metadata": {},
       "overflow": false,
       "plotOptions": {
        "customPlotOptions": {},
        "displayType": "table",
        "pivotAggregation": null,
        "pivotColumns": null,
        "xColumns": null,
        "yColumns": null
       },
       "removedWidgets": [],
       "schema": [
        {
         "metadata": "{}",
         "name": "code",
         "type": "\"string\""
        },
        {
         "metadata": "{}",
         "name": "dob",
         "type": "\"string\""
        },
        {
         "metadata": "{}",
         "name": "driverId",
         "type": "\"long\""
        },
        {
         "metadata": "{}",
         "name": "driverRef",
         "type": "\"string\""
        },
        {
         "metadata": "{}",
         "name": "name",
         "type": "{\"type\":\"struct\",\"fields\":[{\"name\":\"forename\",\"type\":\"string\",\"nullable\":true,\"metadata\":{}},{\"name\":\"surname\",\"type\":\"string\",\"nullable\":true,\"metadata\":{}}]}"
        },
        {
         "metadata": "{}",
         "name": "nationality",
         "type": "\"string\""
        },
        {
         "metadata": "{}",
         "name": "number",
         "type": "\"string\""
        },
        {
         "metadata": "{}",
         "name": "url",
         "type": "\"string\""
        },
        {
         "metadata": "{}",
         "name": "full_name",
         "type": "\"string\""
        }
       ],
       "type": "table"
      }
     },
     "output_type": "display_data"
    }
   ],
   "source": [
    "df_json = df_json.withColumn(\"full_name\", concat_ws(\" \", \"name.forename\", \"name.surname\"))\n",
    "\n",
    "df_json.limit(15).display()"
   ]
  },
  {
   "cell_type": "code",
   "execution_count": 0,
   "metadata": {
    "application/vnd.databricks.v1+cell": {
     "cellMetadata": {
      "byteLimit": 2048000,
      "rowLimit": 10000
     },
     "inputWidgets": {},
     "nuid": "e5987387-fa7b-40c8-9e97-71111799fa4e",
     "showTitle": false,
     "tableResultSettingsMap": {},
     "title": ""
    }
   },
   "outputs": [
    {
     "output_type": "display_data",
     "data": {
      "text/html": [
       "<style scoped>\n",
       "  .table-result-container {\n",
       "    max-height: 300px;\n",
       "    overflow: auto;\n",
       "  }\n",
       "  table, th, td {\n",
       "    border: 1px solid black;\n",
       "    border-collapse: collapse;\n",
       "  }\n",
       "  th, td {\n",
       "    padding: 5px;\n",
       "  }\n",
       "  th {\n",
       "    text-align: left;\n",
       "  }\n",
       "</style><div class='table-result-container'><table class='table-result'><thead style='background-color: white'><tr><th>code</th><th>dob</th><th>driverId</th><th>driverRef</th><th>name</th><th>nationality</th><th>number</th><th>url</th><th>full_name</th><th>age</th></tr></thead><tbody><tr><td>HAM</td><td>1985-01-07</td><td>1</td><td>hamilton</td><td>List(Lewis, Hamilton)</td><td>British</td><td>44</td><td>http://en.wikipedia.org/wiki/Lewis_Hamilton</td><td>Lewis Hamilton</td><td>40</td></tr><tr><td>HEI</td><td>1977-05-10</td><td>2</td><td>heidfeld</td><td>List(Nick, Heidfeld)</td><td>German</td><td>\\N</td><td>http://en.wikipedia.org/wiki/Nick_Heidfeld</td><td>Nick Heidfeld</td><td>47</td></tr><tr><td>ROS</td><td>1985-06-27</td><td>3</td><td>rosberg</td><td>List(Nico, Rosberg)</td><td>German</td><td>6</td><td>http://en.wikipedia.org/wiki/Nico_Rosberg</td><td>Nico Rosberg</td><td>39</td></tr><tr><td>ALO</td><td>1981-07-29</td><td>4</td><td>alonso</td><td>List(Fernando, Alonso)</td><td>Spanish</td><td>14</td><td>http://en.wikipedia.org/wiki/Fernando_Alonso</td><td>Fernando Alonso</td><td>43</td></tr><tr><td>KOV</td><td>1981-10-19</td><td>5</td><td>kovalainen</td><td>List(Heikki, Kovalainen)</td><td>Finnish</td><td>\\N</td><td>http://en.wikipedia.org/wiki/Heikki_Kovalainen</td><td>Heikki Kovalainen</td><td>43</td></tr><tr><td>NAK</td><td>1985-01-11</td><td>6</td><td>nakajima</td><td>List(Kazuki, Nakajima)</td><td>Japanese</td><td>\\N</td><td>http://en.wikipedia.org/wiki/Kazuki_Nakajima</td><td>Kazuki Nakajima</td><td>39</td></tr><tr><td>BOU</td><td>1979-02-28</td><td>7</td><td>bourdais</td><td>List(Sébastien, Bourdais)</td><td>French</td><td>\\N</td><td>http://en.wikipedia.org/wiki/S%C3%A9bastien_Bourdais</td><td>Sébastien Bourdais</td><td>45</td></tr><tr><td>RAI</td><td>1979-10-17</td><td>8</td><td>raikkonen</td><td>List(Kimi, Räikkönen)</td><td>Finnish</td><td>7</td><td>http://en.wikipedia.org/wiki/Kimi_R%C3%A4ikk%C3%B6nen</td><td>Kimi Räikkönen</td><td>45</td></tr><tr><td>KUB</td><td>1984-12-07</td><td>9</td><td>kubica</td><td>List(Robert, Kubica)</td><td>Polish</td><td>88</td><td>http://en.wikipedia.org/wiki/Robert_Kubica</td><td>Robert Kubica</td><td>40</td></tr><tr><td>GLO</td><td>1982-03-18</td><td>10</td><td>glock</td><td>List(Timo, Glock)</td><td>German</td><td>\\N</td><td>http://en.wikipedia.org/wiki/Timo_Glock</td><td>Timo Glock</td><td>42</td></tr><tr><td>SAT</td><td>1977-01-28</td><td>11</td><td>sato</td><td>List(Takuma, Sato)</td><td>Japanese</td><td>\\N</td><td>http://en.wikipedia.org/wiki/Takuma_Sato</td><td>Takuma Sato</td><td>47</td></tr><tr><td>PIQ</td><td>1985-07-25</td><td>12</td><td>piquet_jr</td><td>List(Nelson, Piquet Jr.)</td><td>Brazilian</td><td>\\N</td><td>http://en.wikipedia.org/wiki/Nelson_Piquet,_Jr.</td><td>Nelson Piquet Jr.</td><td>39</td></tr><tr><td>MAS</td><td>1981-04-25</td><td>13</td><td>massa</td><td>List(Felipe, Massa)</td><td>Brazilian</td><td>19</td><td>http://en.wikipedia.org/wiki/Felipe_Massa</td><td>Felipe Massa</td><td>43</td></tr><tr><td>COU</td><td>1971-03-27</td><td>14</td><td>coulthard</td><td>List(David, Coulthard)</td><td>British</td><td>\\N</td><td>http://en.wikipedia.org/wiki/David_Coulthard</td><td>David Coulthard</td><td>53</td></tr><tr><td>TRU</td><td>1974-07-13</td><td>15</td><td>trulli</td><td>List(Jarno, Trulli)</td><td>Italian</td><td>\\N</td><td>http://en.wikipedia.org/wiki/Jarno_Trulli</td><td>Jarno Trulli</td><td>50</td></tr></tbody></table></div>"
      ]
     },
     "metadata": {
      "application/vnd.databricks.v1+output": {
       "addedWidgets": {},
       "aggData": [],
       "aggError": "",
       "aggOverflow": false,
       "aggSchema": [],
       "aggSeriesLimitReached": false,
       "aggType": "",
       "arguments": {},
       "columnCustomDisplayInfos": {},
       "data": [
        [
         "HAM",
         "1985-01-07",
         1,
         "hamilton",
         [
          "Lewis",
          "Hamilton"
         ],
         "British",
         "44",
         "http://en.wikipedia.org/wiki/Lewis_Hamilton",
         "Lewis Hamilton",
         40
        ],
        [
         "HEI",
         "1977-05-10",
         2,
         "heidfeld",
         [
          "Nick",
          "Heidfeld"
         ],
         "German",
         "\\N",
         "http://en.wikipedia.org/wiki/Nick_Heidfeld",
         "Nick Heidfeld",
         47
        ],
        [
         "ROS",
         "1985-06-27",
         3,
         "rosberg",
         [
          "Nico",
          "Rosberg"
         ],
         "German",
         "6",
         "http://en.wikipedia.org/wiki/Nico_Rosberg",
         "Nico Rosberg",
         39
        ],
        [
         "ALO",
         "1981-07-29",
         4,
         "alonso",
         [
          "Fernando",
          "Alonso"
         ],
         "Spanish",
         "14",
         "http://en.wikipedia.org/wiki/Fernando_Alonso",
         "Fernando Alonso",
         43
        ],
        [
         "KOV",
         "1981-10-19",
         5,
         "kovalainen",
         [
          "Heikki",
          "Kovalainen"
         ],
         "Finnish",
         "\\N",
         "http://en.wikipedia.org/wiki/Heikki_Kovalainen",
         "Heikki Kovalainen",
         43
        ],
        [
         "NAK",
         "1985-01-11",
         6,
         "nakajima",
         [
          "Kazuki",
          "Nakajima"
         ],
         "Japanese",
         "\\N",
         "http://en.wikipedia.org/wiki/Kazuki_Nakajima",
         "Kazuki Nakajima",
         39
        ],
        [
         "BOU",
         "1979-02-28",
         7,
         "bourdais",
         [
          "Sébastien",
          "Bourdais"
         ],
         "French",
         "\\N",
         "http://en.wikipedia.org/wiki/S%C3%A9bastien_Bourdais",
         "Sébastien Bourdais",
         45
        ],
        [
         "RAI",
         "1979-10-17",
         8,
         "raikkonen",
         [
          "Kimi",
          "Räikkönen"
         ],
         "Finnish",
         "7",
         "http://en.wikipedia.org/wiki/Kimi_R%C3%A4ikk%C3%B6nen",
         "Kimi Räikkönen",
         45
        ],
        [
         "KUB",
         "1984-12-07",
         9,
         "kubica",
         [
          "Robert",
          "Kubica"
         ],
         "Polish",
         "88",
         "http://en.wikipedia.org/wiki/Robert_Kubica",
         "Robert Kubica",
         40
        ],
        [
         "GLO",
         "1982-03-18",
         10,
         "glock",
         [
          "Timo",
          "Glock"
         ],
         "German",
         "\\N",
         "http://en.wikipedia.org/wiki/Timo_Glock",
         "Timo Glock",
         42
        ],
        [
         "SAT",
         "1977-01-28",
         11,
         "sato",
         [
          "Takuma",
          "Sato"
         ],
         "Japanese",
         "\\N",
         "http://en.wikipedia.org/wiki/Takuma_Sato",
         "Takuma Sato",
         47
        ],
        [
         "PIQ",
         "1985-07-25",
         12,
         "piquet_jr",
         [
          "Nelson",
          "Piquet Jr."
         ],
         "Brazilian",
         "\\N",
         "http://en.wikipedia.org/wiki/Nelson_Piquet,_Jr.",
         "Nelson Piquet Jr.",
         39
        ],
        [
         "MAS",
         "1981-04-25",
         13,
         "massa",
         [
          "Felipe",
          "Massa"
         ],
         "Brazilian",
         "19",
         "http://en.wikipedia.org/wiki/Felipe_Massa",
         "Felipe Massa",
         43
        ],
        [
         "COU",
         "1971-03-27",
         14,
         "coulthard",
         [
          "David",
          "Coulthard"
         ],
         "British",
         "\\N",
         "http://en.wikipedia.org/wiki/David_Coulthard",
         "David Coulthard",
         53
        ],
        [
         "TRU",
         "1974-07-13",
         15,
         "trulli",
         [
          "Jarno",
          "Trulli"
         ],
         "Italian",
         "\\N",
         "http://en.wikipedia.org/wiki/Jarno_Trulli",
         "Jarno Trulli",
         50
        ]
       ],
       "datasetInfos": [],
       "dbfsResultPath": null,
       "isJsonSchema": true,
       "metadata": {},
       "overflow": false,
       "plotOptions": {
        "customPlotOptions": {},
        "displayType": "table",
        "pivotAggregation": null,
        "pivotColumns": null,
        "xColumns": null,
        "yColumns": null
       },
       "removedWidgets": [],
       "schema": [
        {
         "metadata": "{}",
         "name": "code",
         "type": "\"string\""
        },
        {
         "metadata": "{}",
         "name": "dob",
         "type": "\"string\""
        },
        {
         "metadata": "{}",
         "name": "driverId",
         "type": "\"long\""
        },
        {
         "metadata": "{}",
         "name": "driverRef",
         "type": "\"string\""
        },
        {
         "metadata": "{}",
         "name": "name",
         "type": "{\"type\":\"struct\",\"fields\":[{\"name\":\"forename\",\"type\":\"string\",\"nullable\":true,\"metadata\":{}},{\"name\":\"surname\",\"type\":\"string\",\"nullable\":true,\"metadata\":{}}]}"
        },
        {
         "metadata": "{}",
         "name": "nationality",
         "type": "\"string\""
        },
        {
         "metadata": "{}",
         "name": "number",
         "type": "\"string\""
        },
        {
         "metadata": "{}",
         "name": "url",
         "type": "\"string\""
        },
        {
         "metadata": "{}",
         "name": "full_name",
         "type": "\"string\""
        },
        {
         "metadata": "{}",
         "name": "age",
         "type": "\"integer\""
        }
       ],
       "type": "table"
      }
     },
     "output_type": "display_data"
    }
   ],
   "source": [
    "df_json = df_json.withColumn(\"age\",(datediff(current_date(), col(\"dob\")) / 365).cast(\"int\"))\n",
    "\n",
    "df_json.limit(15).display()"
   ]
  },
  {
   "cell_type": "code",
   "execution_count": 0,
   "metadata": {
    "application/vnd.databricks.v1+cell": {
     "cellMetadata": {},
     "inputWidgets": {},
     "nuid": "4c70006f-ee45-46a5-8c75-1afb9571481d",
     "showTitle": false,
     "tableResultSettingsMap": {},
     "title": ""
    }
   },
   "outputs": [],
   "source": []
  }
 ],
 "metadata": {
  "application/vnd.databricks.v1+notebook": {
   "computePreferences": null,
   "dashboards": [],
   "environmentMetadata": {
    "base_environment": "",
    "client": "1"
   },
   "language": "python",
   "notebookMetadata": {
    "pythonIndentUnit": 4
   },
   "notebookName": "ETL BigMart Sales CSV | Players JSON",
   "widgets": {}
  },
  "language_info": {
   "name": "python"
  }
 },
 "nbformat": 4,
 "nbformat_minor": 0
}